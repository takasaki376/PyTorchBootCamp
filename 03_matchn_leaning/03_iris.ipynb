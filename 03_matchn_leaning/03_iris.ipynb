{
 "cells": [
  {
   "cell_type": "code",
   "execution_count": 1,
   "metadata": {},
   "outputs": [],
   "source": [
    "import numpy as np\n",
    "import torch\n",
    "import torch.nn as nn\n",
    "import torch.nn.functional as F\n",
    "from sklearn.model_selection import train_test_split\n",
    "import pandas as pd\n",
    "import matplotlib.pyplot as plt\n",
    "# アイリスの計測データ\n",
    "from sklearn.datasets import load_iris"
   ]
  },
  {
   "cell_type": "markdown",
   "metadata": {},
   "source": [
    "## データ読み込み"
   ]
  },
  {
   "cell_type": "code",
   "execution_count": 2,
   "metadata": {},
   "outputs": [],
   "source": [
    "iris = load_iris()\n",
    "iris_data=iris.data\n",
    "iris_target=np.array(iris.target,dtype=np.float)"
   ]
  },
  {
   "cell_type": "code",
   "execution_count": 3,
   "metadata": {},
   "outputs": [],
   "source": [
    "# アイリスの計測データを表形式で表示\n",
    "df_x=pd.DataFrame(iris_data ,columns=iris.feature_names)\n",
    "df_y=pd.DataFrame(iris_target ,columns=['target'])\n",
    "df = pd.concat([df_x, df_y], axis=1)"
   ]
  },
  {
   "cell_type": "code",
   "execution_count": 4,
   "metadata": {},
   "outputs": [
    {
     "data": {
      "text/html": [
       "<div>\n",
       "<style scoped>\n",
       "    .dataframe tbody tr th:only-of-type {\n",
       "        vertical-align: middle;\n",
       "    }\n",
       "\n",
       "    .dataframe tbody tr th {\n",
       "        vertical-align: top;\n",
       "    }\n",
       "\n",
       "    .dataframe thead th {\n",
       "        text-align: right;\n",
       "    }\n",
       "</style>\n",
       "<table border=\"1\" class=\"dataframe\">\n",
       "  <thead>\n",
       "    <tr style=\"text-align: right;\">\n",
       "      <th></th>\n",
       "      <th>sepal length (cm)</th>\n",
       "      <th>sepal width (cm)</th>\n",
       "      <th>petal length (cm)</th>\n",
       "      <th>petal width (cm)</th>\n",
       "      <th>target</th>\n",
       "    </tr>\n",
       "  </thead>\n",
       "  <tbody>\n",
       "    <tr>\n",
       "      <th>0</th>\n",
       "      <td>5.1</td>\n",
       "      <td>3.5</td>\n",
       "      <td>1.4</td>\n",
       "      <td>0.2</td>\n",
       "      <td>0.0</td>\n",
       "    </tr>\n",
       "    <tr>\n",
       "      <th>1</th>\n",
       "      <td>4.9</td>\n",
       "      <td>3.0</td>\n",
       "      <td>1.4</td>\n",
       "      <td>0.2</td>\n",
       "      <td>0.0</td>\n",
       "    </tr>\n",
       "    <tr>\n",
       "      <th>2</th>\n",
       "      <td>4.7</td>\n",
       "      <td>3.2</td>\n",
       "      <td>1.3</td>\n",
       "      <td>0.2</td>\n",
       "      <td>0.0</td>\n",
       "    </tr>\n",
       "    <tr>\n",
       "      <th>3</th>\n",
       "      <td>4.6</td>\n",
       "      <td>3.1</td>\n",
       "      <td>1.5</td>\n",
       "      <td>0.2</td>\n",
       "      <td>0.0</td>\n",
       "    </tr>\n",
       "    <tr>\n",
       "      <th>4</th>\n",
       "      <td>5.0</td>\n",
       "      <td>3.6</td>\n",
       "      <td>1.4</td>\n",
       "      <td>0.2</td>\n",
       "      <td>0.0</td>\n",
       "    </tr>\n",
       "    <tr>\n",
       "      <th>...</th>\n",
       "      <td>...</td>\n",
       "      <td>...</td>\n",
       "      <td>...</td>\n",
       "      <td>...</td>\n",
       "      <td>...</td>\n",
       "    </tr>\n",
       "    <tr>\n",
       "      <th>145</th>\n",
       "      <td>6.7</td>\n",
       "      <td>3.0</td>\n",
       "      <td>5.2</td>\n",
       "      <td>2.3</td>\n",
       "      <td>2.0</td>\n",
       "    </tr>\n",
       "    <tr>\n",
       "      <th>146</th>\n",
       "      <td>6.3</td>\n",
       "      <td>2.5</td>\n",
       "      <td>5.0</td>\n",
       "      <td>1.9</td>\n",
       "      <td>2.0</td>\n",
       "    </tr>\n",
       "    <tr>\n",
       "      <th>147</th>\n",
       "      <td>6.5</td>\n",
       "      <td>3.0</td>\n",
       "      <td>5.2</td>\n",
       "      <td>2.0</td>\n",
       "      <td>2.0</td>\n",
       "    </tr>\n",
       "    <tr>\n",
       "      <th>148</th>\n",
       "      <td>6.2</td>\n",
       "      <td>3.4</td>\n",
       "      <td>5.4</td>\n",
       "      <td>2.3</td>\n",
       "      <td>2.0</td>\n",
       "    </tr>\n",
       "    <tr>\n",
       "      <th>149</th>\n",
       "      <td>5.9</td>\n",
       "      <td>3.0</td>\n",
       "      <td>5.1</td>\n",
       "      <td>1.8</td>\n",
       "      <td>2.0</td>\n",
       "    </tr>\n",
       "  </tbody>\n",
       "</table>\n",
       "<p>150 rows × 5 columns</p>\n",
       "</div>"
      ],
      "text/plain": [
       "     sepal length (cm)  sepal width (cm)  petal length (cm)  petal width (cm)  \\\n",
       "0                  5.1               3.5                1.4               0.2   \n",
       "1                  4.9               3.0                1.4               0.2   \n",
       "2                  4.7               3.2                1.3               0.2   \n",
       "3                  4.6               3.1                1.5               0.2   \n",
       "4                  5.0               3.6                1.4               0.2   \n",
       "..                 ...               ...                ...               ...   \n",
       "145                6.7               3.0                5.2               2.3   \n",
       "146                6.3               2.5                5.0               1.9   \n",
       "147                6.5               3.0                5.2               2.0   \n",
       "148                6.2               3.4                5.4               2.3   \n",
       "149                5.9               3.0                5.1               1.8   \n",
       "\n",
       "     target  \n",
       "0       0.0  \n",
       "1       0.0  \n",
       "2       0.0  \n",
       "3       0.0  \n",
       "4       0.0  \n",
       "..      ...  \n",
       "145     2.0  \n",
       "146     2.0  \n",
       "147     2.0  \n",
       "148     2.0  \n",
       "149     2.0  \n",
       "\n",
       "[150 rows x 5 columns]"
      ]
     },
     "execution_count": 4,
     "metadata": {},
     "output_type": "execute_result"
    }
   ],
   "source": [
    "df"
   ]
  },
  {
   "cell_type": "markdown",
   "metadata": {},
   "source": [
    "## モデルの定義"
   ]
  },
  {
   "cell_type": "code",
   "execution_count": 5,
   "metadata": {},
   "outputs": [],
   "source": [
    "class Model(nn.Module):\n",
    "    def __init__(self, in_features=4, h1=8, h2=9,out_features=3):\n",
    "        super().__init__()\n",
    "        self.fc1 = nn.Linear(in_features , h1)\n",
    "        self.fc2 = nn.Linear(h1 , h2)\n",
    "        self.fc3 = nn.Linear(h2 , out_features)\n",
    "        \n",
    "    def forward(self, x):\n",
    "        x = F.relu(self.fc1(x))\n",
    "        x = F.relu(self.fc2(x))\n",
    "        x = self.fc3(x)\n",
    "        return x"
   ]
  },
  {
   "cell_type": "markdown",
   "metadata": {},
   "source": [
    "## テストデータ"
   ]
  },
  {
   "cell_type": "code",
   "execution_count": 6,
   "metadata": {},
   "outputs": [],
   "source": [
    "X = iris_data\n",
    "Y = iris_target\n",
    "X_train,X_test,Y_train,Y_test=train_test_split(X, Y, test_size=0.20, random_state=123) "
   ]
  },
  {
   "cell_type": "code",
   "execution_count": 7,
   "metadata": {},
   "outputs": [],
   "source": [
    "# numpy の値を torch の値に変換する\n",
    "X_train = torch.FloatTensor(X_train)\n",
    "Y_train = torch.LongTensor(Y_train)\n",
    "X_test  = torch.FloatTensor(X_test)\n",
    "Y_test  = torch.LongTensor(Y_test)"
   ]
  },
  {
   "cell_type": "code",
   "execution_count": 8,
   "metadata": {},
   "outputs": [],
   "source": [
    "torch.manual_seed(3)\n",
    "model = Model()\n",
    "## 出力値が３つなので、CrossEntropyLoss (使う場合は、softmax関数を内部で処理しているため、ニューラルネットワークにsoftmax関数は使用しない)\n",
    "criterion = nn.CrossEntropyLoss()\n",
    "optimizer = torch.optim.Adam(model.parameters(), lr=0.01)"
   ]
  },
  {
   "cell_type": "code",
   "execution_count": 9,
   "metadata": {},
   "outputs": [
    {
     "data": {
      "text/plain": [
       "tensor([2, 2, 0, 0, 1, 1, 2, 0, 0, 1, 1, 0, 2, 2, 2, 2, 2, 1, 0, 0, 2, 0, 0, 1,\n",
       "        1, 1, 1, 2, 1, 2, 0, 2, 1, 0, 0, 2, 1, 2, 2, 0, 1, 1, 2, 0, 2, 1, 1, 0,\n",
       "        2, 2, 0, 0, 1, 1, 2, 0, 0, 1, 0, 1, 2, 0, 2, 0, 0, 1, 0, 0, 1, 2, 1, 1,\n",
       "        1, 0, 0, 1, 2, 0, 0, 1, 1, 1, 2, 1, 1, 1, 2, 0, 0, 1, 2, 2, 2, 2, 0, 1,\n",
       "        0, 1, 1, 0, 1, 2, 1, 2, 2, 0, 1, 0, 2, 2, 1, 1, 2, 2, 1, 0, 1, 1, 2, 2])"
      ]
     },
     "execution_count": 9,
     "metadata": {},
     "output_type": "execute_result"
    }
   ],
   "source": [
    "Y_train"
   ]
  },
  {
   "cell_type": "code",
   "execution_count": null,
   "metadata": {},
   "outputs": [],
   "source": []
  },
  {
   "cell_type": "code",
   "execution_count": 12,
   "metadata": {},
   "outputs": [],
   "source": [
    "epochs=2\n",
    "loss_list = []\n",
    "\n",
    "for epoch in range(epochs):\n",
    "    y_pred = model.forward(X_train)\n",
    "    loss = criterion(y_pred, Y_train)\n",
    "    \n",
    "    optimizer.zero_grad()\n",
    "    loss.backward()\n",
    "    optimizer.step()\n",
    "    \n",
    "    loss_list.append(loss)\n",
    "    \n",
    "    if (epoch+1) % 10 == 0:\n",
    "        print(f'epoch: {epoch+1} loss: {loss.item():4f}')"
   ]
  },
  {
   "cell_type": "code",
   "execution_count": 13,
   "metadata": {},
   "outputs": [
    {
     "data": {
      "text/plain": [
       "tensor([[-6.4346e-01,  2.7515e-02, -1.2827e-01],\n",
       "        [-4.3102e-01,  8.1600e-02, -1.1745e-01],\n",
       "        [ 2.4593e-02,  1.4365e-01, -1.3220e-01],\n",
       "        [ 2.4110e-02,  1.3481e-01, -1.3383e-01],\n",
       "        [-2.8909e-01,  9.7621e-02, -1.3290e-01],\n",
       "        [-1.6355e-01,  1.4030e-01, -1.0779e-01],\n",
       "        [-7.3653e-01,  1.1186e-02, -1.1840e-01],\n",
       "        [-1.4595e-02,  1.1923e-01, -1.4099e-01],\n",
       "        [-9.2255e-03,  1.2253e-01, -1.3875e-01],\n",
       "        [-2.8349e-01,  1.0970e-01, -1.1367e-01],\n",
       "        [-1.8296e-01,  1.3471e-01, -1.1290e-01],\n",
       "        [ 4.8823e-02,  1.4295e-01, -1.3050e-01],\n",
       "        [-6.0484e-01,  5.5542e-02, -9.6218e-02],\n",
       "        [-4.8636e-01,  7.5302e-02, -9.9801e-02],\n",
       "        [-4.5106e-01,  9.1622e-02, -9.3323e-02],\n",
       "        [-4.3774e-01,  6.8463e-02, -1.0951e-01],\n",
       "        [-5.4946e-01,  4.6955e-02, -1.0658e-01],\n",
       "        [-2.7461e-01,  1.1574e-01, -1.1094e-01],\n",
       "        [ 3.0986e-03,  1.2461e-01, -1.4093e-01],\n",
       "        [ 5.6871e-02,  1.4693e-01, -1.4948e-01],\n",
       "        [-4.8237e-01,  7.7342e-02, -9.8785e-02],\n",
       "        [ 8.1678e-03,  1.3318e-01, -1.3529e-01],\n",
       "        [ 2.2560e-02,  1.5080e-01, -1.2324e-01],\n",
       "        [-4.3389e-01,  7.3400e-02, -1.1900e-01],\n",
       "        [-4.0469e-01,  8.8818e-02, -1.0839e-01],\n",
       "        [-2.8237e-01,  1.1610e-01, -1.0710e-01],\n",
       "        [-2.2077e-01,  1.1841e-01, -1.1922e-01],\n",
       "        [-4.5106e-01,  9.1622e-02, -9.3323e-02],\n",
       "        [-3.8998e-01,  7.9124e-02, -1.2242e-01],\n",
       "        [-5.0135e-01,  6.2740e-02, -1.0447e-01],\n",
       "        [ 5.9215e-02,  1.7460e-01, -1.2146e-01],\n",
       "        [-5.8091e-01,  5.9580e-02, -9.7276e-02],\n",
       "        [-3.3961e-01,  1.0517e-01, -1.0438e-01],\n",
       "        [ 3.9648e-03,  1.2495e-01, -1.4072e-01],\n",
       "        [ 1.8646e-02,  1.3798e-01, -1.3556e-01],\n",
       "        [-5.4954e-01,  6.5807e-02, -1.0239e-01],\n",
       "        [-3.6313e-01,  8.6901e-02, -1.2137e-01],\n",
       "        [-7.4299e-01,  1.0268e-02, -1.3444e-01],\n",
       "        [-7.7349e-01,  2.9128e-02, -1.4601e-01],\n",
       "        [-1.9815e-02,  1.2254e-01, -1.4300e-01],\n",
       "        [-4.0049e-01,  8.6080e-02, -1.1009e-01],\n",
       "        [-2.3990e-01,  1.1797e-01, -1.1731e-01],\n",
       "        [-4.6708e-01,  8.4794e-02, -9.5366e-02],\n",
       "        [ 3.7491e-02,  1.5237e-01, -1.2352e-01],\n",
       "        [-6.0847e-01,  3.4905e-02, -1.2762e-01],\n",
       "        [-4.3068e-01,  8.5544e-02, -1.0253e-01],\n",
       "        [-4.4666e-01,  6.4289e-02, -1.2716e-01],\n",
       "        [ 1.3711e-02,  1.5227e-01, -1.2146e-01],\n",
       "        [-5.3977e-01,  6.8645e-02, -9.9555e-02],\n",
       "        [-4.3825e-01,  8.2031e-02, -1.0960e-01],\n",
       "        [ 7.0061e-03,  1.2531e-01, -1.4364e-01],\n",
       "        [ 3.7500e-02,  1.4968e-01, -1.2523e-01],\n",
       "        [-3.0646e-01,  1.0174e-01, -1.1663e-01],\n",
       "        [-4.0258e-01,  8.0344e-02, -1.1999e-01],\n",
       "        [-6.0561e-01,  4.3762e-02, -9.9923e-02],\n",
       "        [-4.9154e-03,  1.2709e-01, -1.3567e-01],\n",
       "        [ 3.2139e-02,  1.3496e-01, -1.4548e-01],\n",
       "        [-2.5276e-01,  1.1729e-01, -1.1454e-01],\n",
       "        [ 1.8334e-02,  1.3242e-01, -1.3860e-01],\n",
       "        [-4.2673e-01,  7.9281e-02, -1.0491e-01],\n",
       "        [-5.3075e-01,  6.1802e-02, -1.0719e-01],\n",
       "        [ 1.9949e-02,  1.4688e-01, -1.2624e-01],\n",
       "        [-5.7339e-01,  5.0093e-02, -1.1961e-01],\n",
       "        [-4.4146e-02,  1.0984e-01, -1.4404e-01],\n",
       "        [-2.7843e-02,  1.2956e-01, -1.3245e-01],\n",
       "        [-4.7126e-01,  6.9329e-02, -1.1507e-01],\n",
       "        [ 2.8124e-02,  1.3394e-01, -1.3727e-01],\n",
       "        [ 7.6528e-04,  1.3198e-01, -1.3347e-01],\n",
       "        [-4.1385e-01,  7.4370e-02, -1.2549e-01],\n",
       "        [-6.7896e-01,  2.3308e-02, -1.2558e-01],\n",
       "        [-3.8403e-01,  8.1427e-02, -1.2179e-01],\n",
       "        [-2.3696e-01,  1.1652e-01, -1.1057e-01],\n",
       "        [-2.7424e-01,  1.1247e-01, -1.1485e-01],\n",
       "        [ 4.0260e-02,  1.4576e-01, -1.3394e-01],\n",
       "        [ 2.3482e-02,  1.3274e-01, -1.3565e-01],\n",
       "        [-4.4251e-01,  6.6011e-02, -1.2941e-01],\n",
       "        [-5.4439e-01,  6.2889e-02, -1.1280e-01],\n",
       "        [ 2.6154e-02,  1.4703e-01, -1.2608e-01],\n",
       "        [ 1.0423e-02,  1.3664e-01, -1.3138e-01],\n",
       "        [-3.2324e-01,  1.0894e-01, -1.0515e-01],\n",
       "        [-3.9552e-01,  8.2840e-02, -1.0782e-01],\n",
       "        [-3.5898e-01,  9.1873e-02, -1.1628e-01],\n",
       "        [-6.0863e-01,  4.4049e-02, -1.1257e-01],\n",
       "        [-4.6909e-01,  6.3388e-02, -1.2344e-01],\n",
       "        [-2.9513e-01,  1.0699e-01, -1.1526e-01],\n",
       "        [-3.1367e-01,  1.0916e-01, -1.0611e-01],\n",
       "        [-7.2766e-01,  1.3980e-02, -1.2302e-01],\n",
       "        [ 1.8934e-02,  1.3795e-01, -1.3157e-01],\n",
       "        [ 4.3505e-03,  1.3091e-01, -1.3459e-01],\n",
       "        [-3.3558e-01,  1.0390e-01, -1.0383e-01],\n",
       "        [-5.7587e-01,  5.8096e-02, -9.9421e-02],\n",
       "        [-5.4385e-01,  6.6206e-02, -1.0143e-01],\n",
       "        [-6.4196e-01,  3.3901e-02, -1.1826e-01],\n",
       "        [-4.9018e-01,  7.4768e-02, -1.0201e-01],\n",
       "        [ 1.5252e-02,  1.3897e-01, -1.3033e-01],\n",
       "        [-3.7012e-01,  9.4482e-02, -1.0329e-01],\n",
       "        [ 4.7295e-02,  1.4213e-01, -1.4036e-01],\n",
       "        [-3.1985e-01,  1.0099e-01, -1.1788e-01],\n",
       "        [-3.7576e-01,  9.9081e-02, -1.0480e-01],\n",
       "        [ 3.0183e-02,  1.4054e-01, -1.3061e-01],\n",
       "        [-3.5757e-01,  8.9227e-02, -1.2419e-01],\n",
       "        [-5.4935e-01,  6.4527e-02, -9.6639e-02],\n",
       "        [-3.8055e-01,  9.5476e-02, -1.0566e-01],\n",
       "        [-5.6855e-01,  5.1803e-02, -1.0148e-01],\n",
       "        [-4.9464e-01,  7.2351e-02, -1.0733e-01],\n",
       "        [-6.3009e-03,  1.2143e-01, -1.4089e-01],\n",
       "        [-4.1777e-01,  8.2262e-02, -1.1677e-01],\n",
       "        [ 4.4784e-02,  1.4201e-01, -1.4385e-01],\n",
       "        [-5.1882e-01,  5.1104e-02, -1.0854e-01],\n",
       "        [-4.2273e-01,  9.5273e-02, -9.5112e-02],\n",
       "        [-3.3307e-01,  1.0682e-01, -1.0386e-01],\n",
       "        [-1.6513e-01,  1.4102e-01, -1.0513e-01],\n",
       "        [-4.3314e-01,  8.3081e-02, -1.0852e-01],\n",
       "        [-3.2998e-01,  1.0211e-01, -1.0879e-01],\n",
       "        [-4.6327e-01,  8.1828e-02, -1.0509e-01],\n",
       "        [ 2.2096e-02,  1.3226e-01, -1.3572e-01],\n",
       "        [-1.2311e-01,  1.3843e-01, -1.1348e-01],\n",
       "        [-3.7516e-01,  9.7241e-02, -1.0126e-01],\n",
       "        [-4.1942e-01,  8.8269e-02, -1.0438e-01],\n",
       "        [-6.5419e-01,  4.3283e-02, -9.4755e-02]], grad_fn=<AddmmBackward>)"
      ]
     },
     "execution_count": 13,
     "metadata": {},
     "output_type": "execute_result"
    }
   ],
   "source": [
    "y_pred"
   ]
  },
  {
   "cell_type": "code",
   "execution_count": 32,
   "metadata": {},
   "outputs": [
    {
     "data": {
      "text/plain": [
       "[<matplotlib.lines.Line2D at 0x208e1d33b70>]"
      ]
     },
     "execution_count": 32,
     "metadata": {},
     "output_type": "execute_result"
    },
    {
     "name": "stderr",
     "output_type": "stream",
     "text": [
      "findfont: Font family ['IPAexGothic'] not found. Falling back to DejaVu Sans.\n"
     ]
    },
    {
     "data": {
      "image/png": "[encoded data removed]",
      "text/plain": [
       "<Figure size 432x288 with 1 Axes>"
      ]
     },
     "metadata": {
      "needs_background": "light"
     },
     "output_type": "display_data"
    }
   ],
   "source": [
    "plt.plot(loss_list)"
   ]
  },
  {
   "cell_type": "markdown",
   "metadata": {},
   "source": [
    "## 検証データを使って検証する"
   ]
  },
  {
   "cell_type": "code",
   "execution_count": 35,
   "metadata": {},
   "outputs": [
    {
     "name": "stdout",
     "output_type": "stream",
     "text": [
      "0.09750048816204071\n"
     ]
    }
   ],
   "source": [
    "with torch.no_grad():\n",
    "    predicted_y = model.forward(X_test)\n",
    "    loss = criterion(predicted_y , Y_test)\n",
    "    print(loss.item())"
   ]
  },
  {
   "cell_type": "markdown",
   "metadata": {},
   "source": [
    "# モデルの保存"
   ]
  },
  {
   "cell_type": "code",
   "execution_count": 36,
   "metadata": {},
   "outputs": [],
   "source": [
    "torch.save(model.state_dict(),'irisModel.pt')"
   ]
  },
  {
   "cell_type": "markdown",
   "metadata": {},
   "source": [
    "# 未知のデータの予測"
   ]
  },
  {
   "cell_type": "code",
   "execution_count": 38,
   "metadata": {},
   "outputs": [
    {
     "data": {
      "text/plain": [
       "Model(\n",
       "  (fc1): Linear(in_features=4, out_features=8, bias=True)\n",
       "  (fc2): Linear(in_features=8, out_features=9, bias=True)\n",
       "  (fc3): Linear(in_features=9, out_features=3, bias=True)\n",
       ")"
      ]
     },
     "execution_count": 38,
     "metadata": {},
     "output_type": "execute_result"
    }
   ],
   "source": [
    "# 予測するモードに変更\n",
    "model.eval()"
   ]
  },
  {
   "cell_type": "code",
   "execution_count": 39,
   "metadata": {},
   "outputs": [],
   "source": [
    "# 予測に使う入力データ\n",
    "new_iris = torch.tensor([5.6, 3.7, 2.1, 0.7])"
   ]
  },
  {
   "cell_type": "code",
   "execution_count": 40,
   "metadata": {},
   "outputs": [
    {
     "name": "stdout",
     "output_type": "stream",
     "text": [
      "tensor([  5.1438,   0.7898, -10.9314])\n",
      "tensor(0)\n"
     ]
    }
   ],
   "source": [
    "with torch.no_grad():\n",
    "    # 予測結果（３項目返ってきて、それぞれの確率）\n",
    "    print(model(new_iris))\n",
    "    # ０番目が正解\n",
    "    print(model(new_iris).argmax())"
   ]
  },
  {
   "cell_type": "markdown",
   "metadata": {},
   "source": [
    "# 保存したモデルの読み込み、予測"
   ]
  },
  {
   "cell_type": "code",
   "execution_count": 43,
   "metadata": {},
   "outputs": [
    {
     "data": {
      "text/plain": [
       "Model(\n",
       "  (fc1): Linear(in_features=4, out_features=8, bias=True)\n",
       "  (fc2): Linear(in_features=8, out_features=9, bias=True)\n",
       "  (fc3): Linear(in_features=9, out_features=3, bias=True)\n",
       ")"
      ]
     },
     "execution_count": 43,
     "metadata": {},
     "output_type": "execute_result"
    }
   ],
   "source": [
    "new_model = Model()\n",
    "new_model.load_state_dict(torch.load('irisModel.pt'))\n",
    "new_model.eval()"
   ]
  },
  {
   "cell_type": "code",
   "execution_count": 44,
   "metadata": {},
   "outputs": [
    {
     "name": "stdout",
     "output_type": "stream",
     "text": [
      "tensor([  5.1438,   0.7898, -10.9314])\n",
      "tensor(0)\n"
     ]
    }
   ],
   "source": [
    "with torch.no_grad():\n",
    "    # 予測結果（３項目返ってきて、それぞれの確率）\n",
    "    print(new_model(new_iris))\n",
    "    # ０番目が正解\n",
    "    print(new_model(new_iris).argmax())"
   ]
  },
  {
   "cell_type": "code",
   "execution_count": null,
   "metadata": {},
   "outputs": [],
   "source": []
  }
 ],
 "metadata": {
  "kernelspec": {
   "display_name": "Python 3",
   "language": "python",
   "name": "python3"
  },
  "language_info": {
   "codemirror_mode": {
    "name": "ipython",
    "version": 3
   },
   "file_extension": ".py",
   "mimetype": "text/x-python",
   "name": "python",
   "nbconvert_exporter": "python",
   "pygments_lexer": "ipython3",
   "version": "3.7.1"
  }
 },
 "nbformat": 4,
 "nbformat_minor": 4
}
