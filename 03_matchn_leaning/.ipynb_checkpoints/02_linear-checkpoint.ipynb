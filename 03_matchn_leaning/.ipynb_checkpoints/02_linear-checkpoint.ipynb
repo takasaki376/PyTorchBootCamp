{
 "cells": [
  {
   "cell_type": "code",
   "execution_count": 1,
   "metadata": {},
   "outputs": [],
   "source": [
    "import torch\n",
    "import torch.nn as nn\n",
    "import numpy as np\n",
    "from sklearn import datasets\n",
    "import matplotlib.pyplot as plt"
   ]
  },
  {
   "cell_type": "markdown",
   "metadata": {},
   "source": [
    "# 回帰"
   ]
  },
  {
   "cell_type": "markdown",
   "metadata": {},
   "source": [
    "## データ準備"
   ]
  },
  {
   "cell_type": "code",
   "execution_count": 4,
   "metadata": {},
   "outputs": [
    {
     "name": "stderr",
     "output_type": "stream",
     "text": [
      "findfont: Font family ['IPAexGothic'] not found. Falling back to DejaVu Sans.\n"
     ]
    },
    {
     "data": {
      "image/png": "[encoded data removed]",
      "text/plain": [
       "<Figure size 432x288 with 1 Axes>"
      ]
     },
     "metadata": {
      "needs_background": "light"
     },
     "output_type": "display_data"
    }
   ],
   "source": [
    "x_gen , y_gen = datasets.make_regression(n_samples=100, n_features=1, noise=10, random_state=2)\n",
    "plt.scatter(x_gen, y_gen)\n",
    "plt.show()"
   ]
  },
  {
   "cell_type": "code",
   "execution_count": 5,
   "metadata": {},
   "outputs": [],
   "source": [
    "X = torch.from_numpy(x_gen.astype(np.float32))\n",
    "Y = torch.from_numpy(y_gen.astype(np.float32))"
   ]
  },
  {
   "cell_type": "code",
   "execution_count": 7,
   "metadata": {},
   "outputs": [],
   "source": [
    "Y = Y.view(-1,1)"
   ]
  },
  {
   "cell_type": "code",
   "execution_count": 9,
   "metadata": {},
   "outputs": [],
   "source": [
    "n_samples , n_features = X.shape"
   ]
  },
  {
   "cell_type": "markdown",
   "metadata": {},
   "source": [
    "## モデルの定義"
   ]
  },
  {
   "cell_type": "code",
   "execution_count": 19,
   "metadata": {},
   "outputs": [],
   "source": [
    "model = nn.Linear(1,1)\n",
    "criterion = nn.MSELoss()\n",
    "optimizer = torch.optim.SGD(model.parameters(), lr=0.01)"
   ]
  },
  {
   "cell_type": "markdown",
   "metadata": {},
   "source": [
    "## 学習する"
   ]
  },
  {
   "cell_type": "code",
   "execution_count": 20,
   "metadata": {},
   "outputs": [
    {
     "name": "stdout",
     "output_type": "stream",
     "text": [
      "epoch: 100 , loss=141.1423\n",
      "epoch: 200 , loss=88.1414\n",
      "epoch: 300 , loss=87.2927\n",
      "epoch: 400 , loss=87.2765\n",
      "epoch: 500 , loss=87.2761\n",
      "epoch: 600 , loss=87.2761\n",
      "epoch: 700 , loss=87.2761\n",
      "epoch: 800 , loss=87.2761\n"
     ]
    }
   ],
   "source": [
    "epochs = 800\n",
    "loss_list = []\n",
    "\n",
    "for epoch in range(epochs):\n",
    "    y_pred = model(X)\n",
    "    loss = criterion(y_pred, Y)\n",
    "    \n",
    "    optimizer.zero_grad()\n",
    "    loss.backward()\n",
    "    optimizer.step()\n",
    "    \n",
    "    loss_list.append(loss.item())\n",
    "    if (epoch+1) % 100 == 0:\n",
    "        print(f'epoch: {epoch+1} , loss={loss.item():.4f}')"
   ]
  },
  {
   "cell_type": "markdown",
   "metadata": {},
   "source": [
    "## プロット"
   ]
  },
  {
   "cell_type": "code",
   "execution_count": 21,
   "metadata": {},
   "outputs": [
    {
     "data": {
      "text/plain": [
       "[<matplotlib.lines.Line2D at 0x1f4fc2f7ba8>]"
      ]
     },
     "execution_count": 21,
     "metadata": {},
     "output_type": "execute_result"
    },
    {
     "data": {
      "image/png": "[encoded data removed]",
      "text/plain": [
       "<Figure size 432x288 with 1 Axes>"
      ]
     },
     "metadata": {
      "needs_background": "light"
     },
     "output_type": "display_data"
    }
   ],
   "source": [
    "plt.plot(loss_list)"
   ]
  },
  {
   "cell_type": "code",
   "execution_count": 23,
   "metadata": {},
   "outputs": [
    {
     "data": {
      "image/png": "[encoded data removed]",
      "text/plain": [
       "<Figure size 432x288 with 1 Axes>"
      ]
     },
     "metadata": {
      "needs_background": "light"
     },
     "output_type": "display_data"
    }
   ],
   "source": [
    "with torch.no_grad():\n",
    "    predicted_y = model(X).detach().numpy()\n",
    "    \n",
    "    plt.plot(x_gen, y_gen, 'ro')\n",
    "    plt.plot(x_gen, predicted_y, 'b')\n",
    "    plt.show()"
   ]
  },
  {
   "cell_type": "markdown",
   "metadata": {},
   "source": [
    "# ロジスティック回帰"
   ]
  },
  {
   "cell_type": "markdown",
   "metadata": {},
   "source": [
    "## データ準備"
   ]
  },
  {
   "cell_type": "code",
   "execution_count": 26,
   "metadata": {},
   "outputs": [],
   "source": [
    "from sklearn.preprocessing import StandardScaler\n",
    "from sklearn.model_selection import train_test_split\n",
    "import pandas as pd"
   ]
  },
  {
   "cell_type": "code",
   "execution_count": 63,
   "metadata": {},
   "outputs": [
    {
     "data": {
      "text/html": [
       "<div>\n",
       "<style scoped>\n",
       "    .dataframe tbody tr th:only-of-type {\n",
       "        vertical-align: middle;\n",
       "    }\n",
       "\n",
       "    .dataframe tbody tr th {\n",
       "        vertical-align: top;\n",
       "    }\n",
       "\n",
       "    .dataframe thead th {\n",
       "        text-align: right;\n",
       "    }\n",
       "</style>\n",
       "<table border=\"1\" class=\"dataframe\">\n",
       "  <thead>\n",
       "    <tr style=\"text-align: right;\">\n",
       "      <th></th>\n",
       "      <th>mean radius</th>\n",
       "      <th>mean texture</th>\n",
       "      <th>mean perimeter</th>\n",
       "      <th>mean area</th>\n",
       "      <th>mean smoothness</th>\n",
       "      <th>mean compactness</th>\n",
       "      <th>mean concavity</th>\n",
       "      <th>mean concave points</th>\n",
       "      <th>mean symmetry</th>\n",
       "      <th>mean fractal dimension</th>\n",
       "      <th>...</th>\n",
       "      <th>worst radius</th>\n",
       "      <th>worst texture</th>\n",
       "      <th>worst perimeter</th>\n",
       "      <th>worst area</th>\n",
       "      <th>worst smoothness</th>\n",
       "      <th>worst compactness</th>\n",
       "      <th>worst concavity</th>\n",
       "      <th>worst concave points</th>\n",
       "      <th>worst symmetry</th>\n",
       "      <th>worst fractal dimension</th>\n",
       "    </tr>\n",
       "  </thead>\n",
       "  <tbody>\n",
       "    <tr>\n",
       "      <th>0</th>\n",
       "      <td>17.99</td>\n",
       "      <td>10.38</td>\n",
       "      <td>122.80</td>\n",
       "      <td>1001.0</td>\n",
       "      <td>0.11840</td>\n",
       "      <td>0.27760</td>\n",
       "      <td>0.3001</td>\n",
       "      <td>0.14710</td>\n",
       "      <td>0.2419</td>\n",
       "      <td>0.07871</td>\n",
       "      <td>...</td>\n",
       "      <td>25.38</td>\n",
       "      <td>17.33</td>\n",
       "      <td>184.60</td>\n",
       "      <td>2019.0</td>\n",
       "      <td>0.1622</td>\n",
       "      <td>0.6656</td>\n",
       "      <td>0.7119</td>\n",
       "      <td>0.2654</td>\n",
       "      <td>0.4601</td>\n",
       "      <td>0.11890</td>\n",
       "    </tr>\n",
       "    <tr>\n",
       "      <th>1</th>\n",
       "      <td>20.57</td>\n",
       "      <td>17.77</td>\n",
       "      <td>132.90</td>\n",
       "      <td>1326.0</td>\n",
       "      <td>0.08474</td>\n",
       "      <td>0.07864</td>\n",
       "      <td>0.0869</td>\n",
       "      <td>0.07017</td>\n",
       "      <td>0.1812</td>\n",
       "      <td>0.05667</td>\n",
       "      <td>...</td>\n",
       "      <td>24.99</td>\n",
       "      <td>23.41</td>\n",
       "      <td>158.80</td>\n",
       "      <td>1956.0</td>\n",
       "      <td>0.1238</td>\n",
       "      <td>0.1866</td>\n",
       "      <td>0.2416</td>\n",
       "      <td>0.1860</td>\n",
       "      <td>0.2750</td>\n",
       "      <td>0.08902</td>\n",
       "    </tr>\n",
       "    <tr>\n",
       "      <th>2</th>\n",
       "      <td>19.69</td>\n",
       "      <td>21.25</td>\n",
       "      <td>130.00</td>\n",
       "      <td>1203.0</td>\n",
       "      <td>0.10960</td>\n",
       "      <td>0.15990</td>\n",
       "      <td>0.1974</td>\n",
       "      <td>0.12790</td>\n",
       "      <td>0.2069</td>\n",
       "      <td>0.05999</td>\n",
       "      <td>...</td>\n",
       "      <td>23.57</td>\n",
       "      <td>25.53</td>\n",
       "      <td>152.50</td>\n",
       "      <td>1709.0</td>\n",
       "      <td>0.1444</td>\n",
       "      <td>0.4245</td>\n",
       "      <td>0.4504</td>\n",
       "      <td>0.2430</td>\n",
       "      <td>0.3613</td>\n",
       "      <td>0.08758</td>\n",
       "    </tr>\n",
       "    <tr>\n",
       "      <th>3</th>\n",
       "      <td>11.42</td>\n",
       "      <td>20.38</td>\n",
       "      <td>77.58</td>\n",
       "      <td>386.1</td>\n",
       "      <td>0.14250</td>\n",
       "      <td>0.28390</td>\n",
       "      <td>0.2414</td>\n",
       "      <td>0.10520</td>\n",
       "      <td>0.2597</td>\n",
       "      <td>0.09744</td>\n",
       "      <td>...</td>\n",
       "      <td>14.91</td>\n",
       "      <td>26.50</td>\n",
       "      <td>98.87</td>\n",
       "      <td>567.7</td>\n",
       "      <td>0.2098</td>\n",
       "      <td>0.8663</td>\n",
       "      <td>0.6869</td>\n",
       "      <td>0.2575</td>\n",
       "      <td>0.6638</td>\n",
       "      <td>0.17300</td>\n",
       "    </tr>\n",
       "    <tr>\n",
       "      <th>4</th>\n",
       "      <td>20.29</td>\n",
       "      <td>14.34</td>\n",
       "      <td>135.10</td>\n",
       "      <td>1297.0</td>\n",
       "      <td>0.10030</td>\n",
       "      <td>0.13280</td>\n",
       "      <td>0.1980</td>\n",
       "      <td>0.10430</td>\n",
       "      <td>0.1809</td>\n",
       "      <td>0.05883</td>\n",
       "      <td>...</td>\n",
       "      <td>22.54</td>\n",
       "      <td>16.67</td>\n",
       "      <td>152.20</td>\n",
       "      <td>1575.0</td>\n",
       "      <td>0.1374</td>\n",
       "      <td>0.2050</td>\n",
       "      <td>0.4000</td>\n",
       "      <td>0.1625</td>\n",
       "      <td>0.2364</td>\n",
       "      <td>0.07678</td>\n",
       "    </tr>\n",
       "  </tbody>\n",
       "</table>\n",
       "<p>5 rows × 30 columns</p>\n",
       "</div>"
      ],
      "text/plain": [
       "   mean radius  mean texture  mean perimeter  mean area  mean smoothness  \\\n",
       "0        17.99         10.38          122.80     1001.0          0.11840   \n",
       "1        20.57         17.77          132.90     1326.0          0.08474   \n",
       "2        19.69         21.25          130.00     1203.0          0.10960   \n",
       "3        11.42         20.38           77.58      386.1          0.14250   \n",
       "4        20.29         14.34          135.10     1297.0          0.10030   \n",
       "\n",
       "   mean compactness  mean concavity  mean concave points  mean symmetry  \\\n",
       "0           0.27760          0.3001              0.14710         0.2419   \n",
       "1           0.07864          0.0869              0.07017         0.1812   \n",
       "2           0.15990          0.1974              0.12790         0.2069   \n",
       "3           0.28390          0.2414              0.10520         0.2597   \n",
       "4           0.13280          0.1980              0.10430         0.1809   \n",
       "\n",
       "   mean fractal dimension  ...  worst radius  worst texture  worst perimeter  \\\n",
       "0                 0.07871  ...         25.38          17.33           184.60   \n",
       "1                 0.05667  ...         24.99          23.41           158.80   \n",
       "2                 0.05999  ...         23.57          25.53           152.50   \n",
       "3                 0.09744  ...         14.91          26.50            98.87   \n",
       "4                 0.05883  ...         22.54          16.67           152.20   \n",
       "\n",
       "   worst area  worst smoothness  worst compactness  worst concavity  \\\n",
       "0      2019.0            0.1622             0.6656           0.7119   \n",
       "1      1956.0            0.1238             0.1866           0.2416   \n",
       "2      1709.0            0.1444             0.4245           0.4504   \n",
       "3       567.7            0.2098             0.8663           0.6869   \n",
       "4      1575.0            0.1374             0.2050           0.4000   \n",
       "\n",
       "   worst concave points  worst symmetry  worst fractal dimension  \n",
       "0                0.2654          0.4601                  0.11890  \n",
       "1                0.1860          0.2750                  0.08902  \n",
       "2                0.2430          0.3613                  0.08758  \n",
       "3                0.2575          0.6638                  0.17300  \n",
       "4                0.1625          0.2364                  0.07678  \n",
       "\n",
       "[5 rows x 30 columns]"
      ]
     },
     "execution_count": 63,
     "metadata": {},
     "output_type": "execute_result"
    }
   ],
   "source": [
    "data = datasets.load_breast_cancer()\n",
    "df_x = pd.DataFrame(data.data, columns=data.feature_names)\n",
    "df_x.head()"
   ]
  },
  {
   "cell_type": "code",
   "execution_count": 64,
   "metadata": {},
   "outputs": [
    {
     "data": {
      "text/html": [
       "<div>\n",
       "<style scoped>\n",
       "    .dataframe tbody tr th:only-of-type {\n",
       "        vertical-align: middle;\n",
       "    }\n",
       "\n",
       "    .dataframe tbody tr th {\n",
       "        vertical-align: top;\n",
       "    }\n",
       "\n",
       "    .dataframe thead th {\n",
       "        text-align: right;\n",
       "    }\n",
       "</style>\n",
       "<table border=\"1\" class=\"dataframe\">\n",
       "  <thead>\n",
       "    <tr style=\"text-align: right;\">\n",
       "      <th></th>\n",
       "      <th>target</th>\n",
       "    </tr>\n",
       "  </thead>\n",
       "  <tbody>\n",
       "    <tr>\n",
       "      <th>0</th>\n",
       "      <td>0</td>\n",
       "    </tr>\n",
       "    <tr>\n",
       "      <th>1</th>\n",
       "      <td>0</td>\n",
       "    </tr>\n",
       "    <tr>\n",
       "      <th>2</th>\n",
       "      <td>0</td>\n",
       "    </tr>\n",
       "    <tr>\n",
       "      <th>3</th>\n",
       "      <td>0</td>\n",
       "    </tr>\n",
       "    <tr>\n",
       "      <th>4</th>\n",
       "      <td>0</td>\n",
       "    </tr>\n",
       "  </tbody>\n",
       "</table>\n",
       "</div>"
      ],
      "text/plain": [
       "   target\n",
       "0       0\n",
       "1       0\n",
       "2       0\n",
       "3       0\n",
       "4       0"
      ]
     },
     "execution_count": 64,
     "metadata": {},
     "output_type": "execute_result"
    }
   ],
   "source": [
    "df_y = pd.DataFrame(data.target, columns=['target'])\n",
    "df_y.head()"
   ]
  },
  {
   "cell_type": "code",
   "execution_count": 65,
   "metadata": {},
   "outputs": [],
   "source": [
    "data = datasets.load_breast_cancer()\n",
    "x,y = data.data , data.target"
   ]
  },
  {
   "cell_type": "code",
   "execution_count": 66,
   "metadata": {},
   "outputs": [],
   "source": [
    "n_samples , n_features = x.shape"
   ]
  },
  {
   "cell_type": "code",
   "execution_count": 67,
   "metadata": {},
   "outputs": [],
   "source": [
    "X_train , X_test ,Y_train, Y_test = train_test_split(x , y ,test_size=0.2, random_state=123)"
   ]
  },
  {
   "cell_type": "code",
   "execution_count": 68,
   "metadata": {},
   "outputs": [],
   "source": [
    "sc = StandardScaler() \n",
    "X_train=sc.fit_transform(X_train)\n",
    "X_test=sc.transform(X_test)"
   ]
  },
  {
   "cell_type": "code",
   "execution_count": 69,
   "metadata": {},
   "outputs": [
    {
     "data": {
      "text/html": [
       "<div>\n",
       "<style scoped>\n",
       "    .dataframe tbody tr th:only-of-type {\n",
       "        vertical-align: middle;\n",
       "    }\n",
       "\n",
       "    .dataframe tbody tr th {\n",
       "        vertical-align: top;\n",
       "    }\n",
       "\n",
       "    .dataframe thead th {\n",
       "        text-align: right;\n",
       "    }\n",
       "</style>\n",
       "<table border=\"1\" class=\"dataframe\">\n",
       "  <thead>\n",
       "    <tr style=\"text-align: right;\">\n",
       "      <th></th>\n",
       "      <th>mean radius</th>\n",
       "      <th>mean texture</th>\n",
       "      <th>mean perimeter</th>\n",
       "      <th>mean area</th>\n",
       "      <th>mean smoothness</th>\n",
       "      <th>mean compactness</th>\n",
       "      <th>mean concavity</th>\n",
       "      <th>mean concave points</th>\n",
       "      <th>mean symmetry</th>\n",
       "      <th>mean fractal dimension</th>\n",
       "      <th>...</th>\n",
       "      <th>worst radius</th>\n",
       "      <th>worst texture</th>\n",
       "      <th>worst perimeter</th>\n",
       "      <th>worst area</th>\n",
       "      <th>worst smoothness</th>\n",
       "      <th>worst compactness</th>\n",
       "      <th>worst concavity</th>\n",
       "      <th>worst concave points</th>\n",
       "      <th>worst symmetry</th>\n",
       "      <th>worst fractal dimension</th>\n",
       "    </tr>\n",
       "  </thead>\n",
       "  <tbody>\n",
       "    <tr>\n",
       "      <th>count</th>\n",
       "      <td>4.550000e+02</td>\n",
       "      <td>4.550000e+02</td>\n",
       "      <td>4.550000e+02</td>\n",
       "      <td>4.550000e+02</td>\n",
       "      <td>4.550000e+02</td>\n",
       "      <td>4.550000e+02</td>\n",
       "      <td>4.550000e+02</td>\n",
       "      <td>4.550000e+02</td>\n",
       "      <td>4.550000e+02</td>\n",
       "      <td>4.550000e+02</td>\n",
       "      <td>...</td>\n",
       "      <td>4.550000e+02</td>\n",
       "      <td>4.550000e+02</td>\n",
       "      <td>4.550000e+02</td>\n",
       "      <td>4.550000e+02</td>\n",
       "      <td>4.550000e+02</td>\n",
       "      <td>4.550000e+02</td>\n",
       "      <td>4.550000e+02</td>\n",
       "      <td>4.550000e+02</td>\n",
       "      <td>4.550000e+02</td>\n",
       "      <td>4.550000e+02</td>\n",
       "    </tr>\n",
       "    <tr>\n",
       "      <th>mean</th>\n",
       "      <td>-1.983273e-15</td>\n",
       "      <td>-2.301456e-15</td>\n",
       "      <td>3.240387e-15</td>\n",
       "      <td>6.168448e-16</td>\n",
       "      <td>-4.762979e-15</td>\n",
       "      <td>9.994447e-16</td>\n",
       "      <td>5.856121e-16</td>\n",
       "      <td>-6.636938e-17</td>\n",
       "      <td>-7.292823e-15</td>\n",
       "      <td>1.844678e-15</td>\n",
       "      <td>...</td>\n",
       "      <td>-7.183509e-16</td>\n",
       "      <td>2.420530e-15</td>\n",
       "      <td>-2.287791e-15</td>\n",
       "      <td>-6.246530e-16</td>\n",
       "      <td>5.005032e-15</td>\n",
       "      <td>-1.448414e-15</td>\n",
       "      <td>1.337148e-16</td>\n",
       "      <td>2.479091e-16</td>\n",
       "      <td>-5.856121e-16</td>\n",
       "      <td>4.583391e-15</td>\n",
       "    </tr>\n",
       "    <tr>\n",
       "      <th>std</th>\n",
       "      <td>1.001101e+00</td>\n",
       "      <td>1.001101e+00</td>\n",
       "      <td>1.001101e+00</td>\n",
       "      <td>1.001101e+00</td>\n",
       "      <td>1.001101e+00</td>\n",
       "      <td>1.001101e+00</td>\n",
       "      <td>1.001101e+00</td>\n",
       "      <td>1.001101e+00</td>\n",
       "      <td>1.001101e+00</td>\n",
       "      <td>1.001101e+00</td>\n",
       "      <td>...</td>\n",
       "      <td>1.001101e+00</td>\n",
       "      <td>1.001101e+00</td>\n",
       "      <td>1.001101e+00</td>\n",
       "      <td>1.001101e+00</td>\n",
       "      <td>1.001101e+00</td>\n",
       "      <td>1.001101e+00</td>\n",
       "      <td>1.001101e+00</td>\n",
       "      <td>1.001101e+00</td>\n",
       "      <td>1.001101e+00</td>\n",
       "      <td>1.001101e+00</td>\n",
       "    </tr>\n",
       "    <tr>\n",
       "      <th>min</th>\n",
       "      <td>-2.049880e+00</td>\n",
       "      <td>-2.025000e+00</td>\n",
       "      <td>-2.009316e+00</td>\n",
       "      <td>-1.488554e+00</td>\n",
       "      <td>-3.119031e+00</td>\n",
       "      <td>-1.497005e+00</td>\n",
       "      <td>-1.134988e+00</td>\n",
       "      <td>-1.285946e+00</td>\n",
       "      <td>-2.668076e+00</td>\n",
       "      <td>-1.779435e+00</td>\n",
       "      <td>...</td>\n",
       "      <td>-1.731120e+00</td>\n",
       "      <td>-2.096340e+00</td>\n",
       "      <td>-1.700913e+00</td>\n",
       "      <td>-1.227597e+00</td>\n",
       "      <td>-2.095018e+00</td>\n",
       "      <td>-1.382656e+00</td>\n",
       "      <td>-1.326603e+00</td>\n",
       "      <td>-1.763005e+00</td>\n",
       "      <td>-2.130541e+00</td>\n",
       "      <td>-1.663355e+00</td>\n",
       "    </tr>\n",
       "    <tr>\n",
       "      <th>25%</th>\n",
       "      <td>-7.218965e-01</td>\n",
       "      <td>-7.509489e-01</td>\n",
       "      <td>-7.308835e-01</td>\n",
       "      <td>-7.038805e-01</td>\n",
       "      <td>-7.106540e-01</td>\n",
       "      <td>-7.405516e-01</td>\n",
       "      <td>-7.542132e-01</td>\n",
       "      <td>-7.475845e-01</td>\n",
       "      <td>-7.018677e-01</td>\n",
       "      <td>-7.242377e-01</td>\n",
       "      <td>...</td>\n",
       "      <td>-6.927747e-01</td>\n",
       "      <td>-7.383382e-01</td>\n",
       "      <td>-7.048684e-01</td>\n",
       "      <td>-6.546475e-01</td>\n",
       "      <td>-6.793830e-01</td>\n",
       "      <td>-6.955558e-01</td>\n",
       "      <td>-7.539024e-01</td>\n",
       "      <td>-7.732045e-01</td>\n",
       "      <td>-6.499603e-01</td>\n",
       "      <td>-7.332266e-01</td>\n",
       "    </tr>\n",
       "    <tr>\n",
       "      <th>50%</th>\n",
       "      <td>-1.985534e-01</td>\n",
       "      <td>-9.931760e-02</td>\n",
       "      <td>-2.146332e-01</td>\n",
       "      <td>-2.848018e-01</td>\n",
       "      <td>-1.617503e-02</td>\n",
       "      <td>-2.074523e-01</td>\n",
       "      <td>-3.241046e-01</td>\n",
       "      <td>-4.118152e-01</td>\n",
       "      <td>-9.214990e-02</td>\n",
       "      <td>-1.785403e-01</td>\n",
       "      <td>...</td>\n",
       "      <td>-2.671559e-01</td>\n",
       "      <td>-7.358232e-02</td>\n",
       "      <td>-2.663123e-01</td>\n",
       "      <td>-3.312618e-01</td>\n",
       "      <td>-5.426382e-02</td>\n",
       "      <td>-2.493611e-01</td>\n",
       "      <td>-2.223335e-01</td>\n",
       "      <td>-2.452501e-01</td>\n",
       "      <td>-1.256214e-01</td>\n",
       "      <td>-2.197543e-01</td>\n",
       "    </tr>\n",
       "    <tr>\n",
       "      <th>75%</th>\n",
       "      <td>5.537523e-01</td>\n",
       "      <td>5.691662e-01</td>\n",
       "      <td>5.806155e-01</td>\n",
       "      <td>4.087611e-01</td>\n",
       "      <td>6.167141e-01</td>\n",
       "      <td>4.667476e-01</td>\n",
       "      <td>5.428739e-01</td>\n",
       "      <td>6.409988e-01</td>\n",
       "      <td>5.052682e-01</td>\n",
       "      <td>4.655056e-01</td>\n",
       "      <td>...</td>\n",
       "      <td>5.707170e-01</td>\n",
       "      <td>7.067145e-01</td>\n",
       "      <td>5.678477e-01</td>\n",
       "      <td>3.889827e-01</td>\n",
       "      <td>6.120959e-01</td>\n",
       "      <td>5.406123e-01</td>\n",
       "      <td>5.470745e-01</td>\n",
       "      <td>7.031573e-01</td>\n",
       "      <td>4.202330e-01</td>\n",
       "      <td>4.735197e-01</td>\n",
       "    </tr>\n",
       "    <tr>\n",
       "      <th>max</th>\n",
       "      <td>3.763495e+00</td>\n",
       "      <td>4.468843e+00</td>\n",
       "      <td>3.905863e+00</td>\n",
       "      <td>5.308680e+00</td>\n",
       "      <td>4.722706e+00</td>\n",
       "      <td>4.498599e+00</td>\n",
       "      <td>4.209126e+00</td>\n",
       "      <td>3.886854e+00</td>\n",
       "      <td>4.290087e+00</td>\n",
       "      <td>4.706100e+00</td>\n",
       "      <td>...</td>\n",
       "      <td>4.048660e+00</td>\n",
       "      <td>3.767757e+00</td>\n",
       "      <td>4.246920e+00</td>\n",
       "      <td>5.873277e+00</td>\n",
       "      <td>3.917848e+00</td>\n",
       "      <td>4.453296e+00</td>\n",
       "      <td>4.731879e+00</td>\n",
       "      <td>2.649250e+00</td>\n",
       "      <td>5.954479e+00</td>\n",
       "      <td>5.134534e+00</td>\n",
       "    </tr>\n",
       "  </tbody>\n",
       "</table>\n",
       "<p>8 rows × 30 columns</p>\n",
       "</div>"
      ],
      "text/plain": [
       "        mean radius  mean texture  mean perimeter     mean area  \\\n",
       "count  4.550000e+02  4.550000e+02    4.550000e+02  4.550000e+02   \n",
       "mean  -1.983273e-15 -2.301456e-15    3.240387e-15  6.168448e-16   \n",
       "std    1.001101e+00  1.001101e+00    1.001101e+00  1.001101e+00   \n",
       "min   -2.049880e+00 -2.025000e+00   -2.009316e+00 -1.488554e+00   \n",
       "25%   -7.218965e-01 -7.509489e-01   -7.308835e-01 -7.038805e-01   \n",
       "50%   -1.985534e-01 -9.931760e-02   -2.146332e-01 -2.848018e-01   \n",
       "75%    5.537523e-01  5.691662e-01    5.806155e-01  4.087611e-01   \n",
       "max    3.763495e+00  4.468843e+00    3.905863e+00  5.308680e+00   \n",
       "\n",
       "       mean smoothness  mean compactness  mean concavity  mean concave points  \\\n",
       "count     4.550000e+02      4.550000e+02    4.550000e+02         4.550000e+02   \n",
       "mean     -4.762979e-15      9.994447e-16    5.856121e-16        -6.636938e-17   \n",
       "std       1.001101e+00      1.001101e+00    1.001101e+00         1.001101e+00   \n",
       "min      -3.119031e+00     -1.497005e+00   -1.134988e+00        -1.285946e+00   \n",
       "25%      -7.106540e-01     -7.405516e-01   -7.542132e-01        -7.475845e-01   \n",
       "50%      -1.617503e-02     -2.074523e-01   -3.241046e-01        -4.118152e-01   \n",
       "75%       6.167141e-01      4.667476e-01    5.428739e-01         6.409988e-01   \n",
       "max       4.722706e+00      4.498599e+00    4.209126e+00         3.886854e+00   \n",
       "\n",
       "       mean symmetry  mean fractal dimension  ...  worst radius  \\\n",
       "count   4.550000e+02            4.550000e+02  ...  4.550000e+02   \n",
       "mean   -7.292823e-15            1.844678e-15  ... -7.183509e-16   \n",
       "std     1.001101e+00            1.001101e+00  ...  1.001101e+00   \n",
       "min    -2.668076e+00           -1.779435e+00  ... -1.731120e+00   \n",
       "25%    -7.018677e-01           -7.242377e-01  ... -6.927747e-01   \n",
       "50%    -9.214990e-02           -1.785403e-01  ... -2.671559e-01   \n",
       "75%     5.052682e-01            4.655056e-01  ...  5.707170e-01   \n",
       "max     4.290087e+00            4.706100e+00  ...  4.048660e+00   \n",
       "\n",
       "       worst texture  worst perimeter    worst area  worst smoothness  \\\n",
       "count   4.550000e+02     4.550000e+02  4.550000e+02      4.550000e+02   \n",
       "mean    2.420530e-15    -2.287791e-15 -6.246530e-16      5.005032e-15   \n",
       "std     1.001101e+00     1.001101e+00  1.001101e+00      1.001101e+00   \n",
       "min    -2.096340e+00    -1.700913e+00 -1.227597e+00     -2.095018e+00   \n",
       "25%    -7.383382e-01    -7.048684e-01 -6.546475e-01     -6.793830e-01   \n",
       "50%    -7.358232e-02    -2.663123e-01 -3.312618e-01     -5.426382e-02   \n",
       "75%     7.067145e-01     5.678477e-01  3.889827e-01      6.120959e-01   \n",
       "max     3.767757e+00     4.246920e+00  5.873277e+00      3.917848e+00   \n",
       "\n",
       "       worst compactness  worst concavity  worst concave points  \\\n",
       "count       4.550000e+02     4.550000e+02          4.550000e+02   \n",
       "mean       -1.448414e-15     1.337148e-16          2.479091e-16   \n",
       "std         1.001101e+00     1.001101e+00          1.001101e+00   \n",
       "min        -1.382656e+00    -1.326603e+00         -1.763005e+00   \n",
       "25%        -6.955558e-01    -7.539024e-01         -7.732045e-01   \n",
       "50%        -2.493611e-01    -2.223335e-01         -2.452501e-01   \n",
       "75%         5.406123e-01     5.470745e-01          7.031573e-01   \n",
       "max         4.453296e+00     4.731879e+00          2.649250e+00   \n",
       "\n",
       "       worst symmetry  worst fractal dimension  \n",
       "count    4.550000e+02             4.550000e+02  \n",
       "mean    -5.856121e-16             4.583391e-15  \n",
       "std      1.001101e+00             1.001101e+00  \n",
       "min     -2.130541e+00            -1.663355e+00  \n",
       "25%     -6.499603e-01            -7.332266e-01  \n",
       "50%     -1.256214e-01            -2.197543e-01  \n",
       "75%      4.202330e-01             4.735197e-01  \n",
       "max      5.954479e+00             5.134534e+00  \n",
       "\n",
       "[8 rows x 30 columns]"
      ]
     },
     "execution_count": 69,
     "metadata": {},
     "output_type": "execute_result"
    }
   ],
   "source": [
    "tmp = pd.DataFrame(X_train, columns=data.feature_names)\n",
    "tmp.describe()"
   ]
  },
  {
   "cell_type": "code",
   "execution_count": 70,
   "metadata": {},
   "outputs": [],
   "source": [
    "X_train = torch.from_numpy(X_train.astype(np.float32))\n",
    "X_test = torch.from_numpy(X_test.astype(np.float32))\n",
    "Y_train = torch.from_numpy(Y_train.astype(np.float32))\n",
    "Y_test = torch.from_numpy(Y_test.astype(np.float32))"
   ]
  },
  {
   "cell_type": "code",
   "execution_count": 71,
   "metadata": {},
   "outputs": [],
   "source": [
    "Y_train = Y_train.view(-1,1)\n",
    "Y_test = Y_test.view(-1,1)"
   ]
  },
  {
   "cell_type": "markdown",
   "metadata": {},
   "source": [
    "## モデルの定義"
   ]
  },
  {
   "cell_type": "code",
   "execution_count": 55,
   "metadata": {},
   "outputs": [],
   "source": [
    "class Model(nn.Module):\n",
    "    def __init__(self, in_features):\n",
    "        super(Model, self).__init__()\n",
    "        self.linear = nn.Linear(in_features, 1)\n",
    "        \n",
    "    def forward(self, x):\n",
    "        y_pred = torch.sigmoid(self.linear(x))\n",
    "        return y_pred"
   ]
  },
  {
   "cell_type": "code",
   "execution_count": 56,
   "metadata": {},
   "outputs": [],
   "source": [
    "model = Model(n_features)"
   ]
  },
  {
   "cell_type": "code",
   "execution_count": 58,
   "metadata": {},
   "outputs": [
    {
     "name": "stdout",
     "output_type": "stream",
     "text": [
      "epoch: 100 , loss=0.2688\n",
      "epoch: 200 , loss=0.1984\n",
      "epoch: 300 , loss=0.1665\n",
      "epoch: 400 , loss=0.1477\n",
      "epoch: 500 , loss=0.1350\n",
      "epoch: 600 , loss=0.1258\n",
      "epoch: 700 , loss=0.1188\n",
      "epoch: 800 , loss=0.1131\n",
      "epoch: 900 , loss=0.1085\n",
      "epoch: 1000 , loss=0.1046\n"
     ]
    }
   ],
   "source": [
    "epochs = 1000\n",
    "criterion = nn.BCELoss()\n",
    "optimizer = torch.optim.SGD(model.parameters(), lr=0.01)\n",
    "loss_list= []\n",
    "\n",
    "for epoch in range(epochs):\n",
    "    \n",
    "    y_pred = model(X_train)\n",
    "    loss = criterion(y_pred, Y_train)\n",
    "    \n",
    "    optimizer.zero_grad()\n",
    "    loss.backward()\n",
    "    optimizer.step()\n",
    "    \n",
    "    loss_list.append(loss.item())\n",
    "    if (epoch+1) % 100 == 0:\n",
    "        print(f'epoch: {epoch+1} , loss={loss.item():.4f}')"
   ]
  },
  {
   "cell_type": "markdown",
   "metadata": {},
   "source": [
    "## プロット"
   ]
  },
  {
   "cell_type": "code",
   "execution_count": 59,
   "metadata": {},
   "outputs": [
    {
     "data": {
      "text/plain": [
       "[<matplotlib.lines.Line2D at 0x1f4fd10e2e8>]"
      ]
     },
     "execution_count": 59,
     "metadata": {},
     "output_type": "execute_result"
    },
    {
     "data": {
      "image/png": "[encoded data removed]",
      "text/plain": [
       "<Figure size 432x288 with 1 Axes>"
      ]
     },
     "metadata": {
      "needs_background": "light"
     },
     "output_type": "display_data"
    }
   ],
   "source": [
    "plt.plot(loss_list)"
   ]
  },
  {
   "cell_type": "code",
   "execution_count": 80,
   "metadata": {},
   "outputs": [
    {
     "name": "stdout",
     "output_type": "stream",
     "text": [
      "0.974\n"
     ]
    }
   ],
   "source": [
    "with torch.no_grad():\n",
    "    y_pred = model(X_test)\n",
    "    y_pred_0_1 = y_pred.round()\n",
    "    acc = y_pred_0_1.eq(Y_test).sum()/float(Y_test.shape[0])\n",
    "    print(round(acc.item(),3))"
   ]
  },
  {
   "cell_type": "code",
   "execution_count": null,
   "metadata": {},
   "outputs": [],
   "source": []
  }
 ],
 "metadata": {
  "kernelspec": {
   "display_name": "Python 3",
   "language": "python",
   "name": "python3"
  },
  "language_info": {
   "codemirror_mode": {
    "name": "ipython",
    "version": 3
   },
   "file_extension": ".py",
   "mimetype": "text/x-python",
   "name": "python",
   "nbconvert_exporter": "python",
   "pygments_lexer": "ipython3",
   "version": "3.7.1"
  }
 },
 "nbformat": 4,
 "nbformat_minor": 4
}
