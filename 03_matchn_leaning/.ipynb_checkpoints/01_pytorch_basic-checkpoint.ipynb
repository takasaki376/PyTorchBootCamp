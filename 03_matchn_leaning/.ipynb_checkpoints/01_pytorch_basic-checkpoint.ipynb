{
 "cells": [
  {
   "cell_type": "code",
   "execution_count": 10,
   "metadata": {},
   "outputs": [],
   "source": [
    "import numpy as np\n",
    "import torch"
   ]
  },
  {
   "cell_type": "markdown",
   "metadata": {},
   "source": [
    "# 微分"
   ]
  },
  {
   "cell_type": "code",
   "execution_count": 11,
   "metadata": {},
   "outputs": [],
   "source": [
    "# requires_gradは勾配を計算する場合に必要\n",
    "x = torch.ones(2,2 , requires_grad = True)"
   ]
  },
  {
   "cell_type": "code",
   "execution_count": 12,
   "metadata": {},
   "outputs": [],
   "source": [
    "y = x + 2"
   ]
  },
  {
   "cell_type": "code",
   "execution_count": 13,
   "metadata": {},
   "outputs": [],
   "source": [
    "z = (y**2).mean()"
   ]
  },
  {
   "cell_type": "code",
   "execution_count": 14,
   "metadata": {},
   "outputs": [],
   "source": [
    "# zの微分\n",
    "z.backward()"
   ]
  },
  {
   "cell_type": "code",
   "execution_count": 15,
   "metadata": {},
   "outputs": [
    {
     "name": "stdout",
     "output_type": "stream",
     "text": [
      "tensor([[1.5000, 1.5000],\n",
      "        [1.5000, 1.5000]])\n"
     ]
    }
   ],
   "source": [
    "# xの傾き\n",
    "print(x.grad)"
   ]
  },
  {
   "cell_type": "markdown",
   "metadata": {},
   "source": [
    "# 平均２乗誤差：MES"
   ]
  },
  {
   "cell_type": "markdown",
   "metadata": {},
   "source": [
    "## 回帰問題で使われる"
   ]
  },
  {
   "cell_type": "code",
   "execution_count": 25,
   "metadata": {},
   "outputs": [],
   "source": [
    "from matplotlib import pyplot as plt"
   ]
  },
  {
   "cell_type": "code",
   "execution_count": 18,
   "metadata": {},
   "outputs": [],
   "source": [
    "x_data = [1.0, 2.0, 3.0, 4.0, 5.0]\n",
    "y_data = [3.0, 6.0, 9.0, 12.0, 15.0]\n",
    "\n",
    "def forward(x):\n",
    "    return x*w\n",
    "\n",
    "def loss(x,y):\n",
    "    y_pred = forward(x)\n",
    "    return (y_pred - y) ** 2\n",
    "\n",
    "w_list = []\n",
    "MES_list = []"
   ]
  },
  {
   "cell_type": "code",
   "execution_count": 21,
   "metadata": {},
   "outputs": [
    {
     "name": "stdout",
     "output_type": "stream",
     "text": [
      "w= 0.0\n",
      "\t 1.0 3.0 0.0 9.0\n",
      "\t 2.0 6.0 0.0 36.0\n",
      "\t 3.0 9.0 0.0 81.0\n",
      "\t 4.0 12.0 0.0 144.0\n",
      "\t 5.0 15.0 0.0 225.0\n",
      "MES= 99.0\n",
      "w= 0.5\n",
      "\t 1.0 3.0 0.5 6.25\n",
      "\t 2.0 6.0 1.0 25.0\n",
      "\t 3.0 9.0 1.5 56.25\n",
      "\t 4.0 12.0 2.0 100.0\n",
      "\t 5.0 15.0 2.5 156.25\n",
      "MES= 68.75\n",
      "w= 1.0\n",
      "\t 1.0 3.0 1.0 4.0\n",
      "\t 2.0 6.0 2.0 16.0\n",
      "\t 3.0 9.0 3.0 36.0\n",
      "\t 4.0 12.0 4.0 64.0\n",
      "\t 5.0 15.0 5.0 100.0\n",
      "MES= 44.0\n",
      "w= 1.5\n",
      "\t 1.0 3.0 1.5 2.25\n",
      "\t 2.0 6.0 3.0 9.0\n",
      "\t 3.0 9.0 4.5 20.25\n",
      "\t 4.0 12.0 6.0 36.0\n",
      "\t 5.0 15.0 7.5 56.25\n",
      "MES= 24.75\n",
      "w= 2.0\n",
      "\t 1.0 3.0 2.0 1.0\n",
      "\t 2.0 6.0 4.0 4.0\n",
      "\t 3.0 9.0 6.0 9.0\n",
      "\t 4.0 12.0 8.0 16.0\n",
      "\t 5.0 15.0 10.0 25.0\n",
      "MES= 11.0\n",
      "w= 2.5\n",
      "\t 1.0 3.0 2.5 0.25\n",
      "\t 2.0 6.0 5.0 1.0\n",
      "\t 3.0 9.0 7.5 2.25\n",
      "\t 4.0 12.0 10.0 4.0\n",
      "\t 5.0 15.0 12.5 6.25\n",
      "MES= 2.75\n",
      "w= 3.0\n",
      "\t 1.0 3.0 3.0 0.0\n",
      "\t 2.0 6.0 6.0 0.0\n",
      "\t 3.0 9.0 9.0 0.0\n",
      "\t 4.0 12.0 12.0 0.0\n",
      "\t 5.0 15.0 15.0 0.0\n",
      "MES= 0.0\n",
      "w= 3.5\n",
      "\t 1.0 3.0 3.5 0.25\n",
      "\t 2.0 6.0 7.0 1.0\n",
      "\t 3.0 9.0 10.5 2.25\n",
      "\t 4.0 12.0 14.0 4.0\n",
      "\t 5.0 15.0 17.5 6.25\n",
      "MES= 2.75\n",
      "w= 4.0\n",
      "\t 1.0 3.0 4.0 1.0\n",
      "\t 2.0 6.0 8.0 4.0\n",
      "\t 3.0 9.0 12.0 9.0\n",
      "\t 4.0 12.0 16.0 16.0\n",
      "\t 5.0 15.0 20.0 25.0\n",
      "MES= 11.0\n",
      "w= 4.5\n",
      "\t 1.0 3.0 4.5 2.25\n",
      "\t 2.0 6.0 9.0 9.0\n",
      "\t 3.0 9.0 13.5 20.25\n",
      "\t 4.0 12.0 18.0 36.0\n",
      "\t 5.0 15.0 22.5 56.25\n",
      "MES= 24.75\n",
      "w= 5.0\n",
      "\t 1.0 3.0 5.0 4.0\n",
      "\t 2.0 6.0 10.0 16.0\n",
      "\t 3.0 9.0 15.0 36.0\n",
      "\t 4.0 12.0 20.0 64.0\n",
      "\t 5.0 15.0 25.0 100.0\n",
      "MES= 44.0\n",
      "w= 5.5\n",
      "\t 1.0 3.0 5.5 6.25\n",
      "\t 2.0 6.0 11.0 25.0\n",
      "\t 3.0 9.0 16.5 56.25\n",
      "\t 4.0 12.0 22.0 100.0\n",
      "\t 5.0 15.0 27.5 156.25\n",
      "MES= 68.75\n",
      "w= 6.0\n",
      "\t 1.0 3.0 6.0 9.0\n",
      "\t 2.0 6.0 12.0 36.0\n",
      "\t 3.0 9.0 18.0 81.0\n",
      "\t 4.0 12.0 24.0 144.0\n",
      "\t 5.0 15.0 30.0 225.0\n",
      "MES= 99.0\n"
     ]
    }
   ],
   "source": [
    "for w in np.arange(0.0, 6.5,0.5):\n",
    "    print(\"w=\" , w)\n",
    "    loss_sum = 0\n",
    "    \n",
    "    for x, y in zip(x_data,y_data):\n",
    "        \n",
    "        y_pred = forward(x)\n",
    "        loss_val = loss(x,y)\n",
    "        loss_sum += loss_val\n",
    "        print(\"\\t\", x,y,y_pred,loss_val)\n",
    "        \n",
    "    print(\"MES=\", loss_sum/len(x_data))\n",
    "    w_list.append(w)\n",
    "    MES_list.append(loss_sum/len(x_data))"
   ]
  },
  {
   "cell_type": "code",
   "execution_count": 26,
   "metadata": {},
   "outputs": [
    {
     "name": "stderr",
     "output_type": "stream",
     "text": [
      "findfont: Font family ['IPAexGothic'] not found. Falling back to DejaVu Sans.\n"
     ]
    },
    {
     "data": {
      "image/png": "[encoded data removed]",
      "text/plain": [
       "<Figure size 432x288 with 1 Axes>"
      ]
     },
     "metadata": {
      "needs_background": "light"
     },
     "output_type": "display_data"
    }
   ],
   "source": [
    "plt.plot(w_list, MES_list)\n",
    "plt.ylabel('MES')\n",
    "plt.xlabel('w')\n",
    "plt.show()"
   ]
  },
  {
   "cell_type": "markdown",
   "metadata": {},
   "source": [
    "# 勾配降下法（Gradient Descent）"
   ]
  },
  {
   "cell_type": "code",
   "execution_count": 28,
   "metadata": {},
   "outputs": [],
   "source": [
    "x_data = np.array([1.0, 2.0, 3.0, 4.0, 5.0], dtype=np.float32)\n",
    "y_data = np.array([3.0, 6.0, 9.0, 12.0, 15.0], dtype=np.float32)"
   ]
  },
  {
   "cell_type": "code",
   "execution_count": 32,
   "metadata": {},
   "outputs": [],
   "source": [
    "w = 1.0\n",
    "w_list= [w]\n",
    "loss_list = []\n",
    "\n",
    "def forward(x):\n",
    "    return x*w\n",
    "\n",
    "def loss(y,y_grad):\n",
    "    return ((y_pred - y) ** 2).mean()\n",
    "\n",
    "def gradient(x,y,y_pred):\n",
    "    return np.dot(2*x, y_pred-y).mean()\n",
    " \n"
   ]
  },
  {
   "cell_type": "code",
   "execution_count": 34,
   "metadata": {},
   "outputs": [
    {
     "name": "stdout",
     "output_type": "stream",
     "text": [
      "epoch 0: w =  2.980000: loss 0.440000\n",
      "epoch 1: w =  3.002000: loss 0.004400\n",
      "epoch 2: w =  2.999800: loss 0.000044\n",
      "epoch 3: w =  3.000020: loss 0.000000\n",
      "epoch 4: w =  2.999998: loss 0.000000\n",
      "epoch 5: w =  3.000000: loss 0.000000\n",
      "epoch 6: w =  3.000000: loss 0.000000\n",
      "epoch 7: w =  3.000000: loss 0.000000\n",
      "epoch 8: w =  3.000000: loss 0.000000\n",
      "epoch 9: w =  3.000000: loss 0.000000\n"
     ]
    }
   ],
   "source": [
    "epochs = 10\n",
    "lr=0.01\n",
    "\n",
    "for epoch in range(epochs):\n",
    "    y_pred = forward(x_data)\n",
    "    loss_val = loss(y_data, y_pred)\n",
    "    \n",
    "    grad_val = gradient(x_data, y_data, y_pred)\n",
    "    w = w - lr * grad_val\n",
    "    w_list.append(w)\n",
    "    loss_list.append(loss_val)\n",
    "    \n",
    "    print(f'epoch {epoch}: w = {w: 3f}: loss {loss_val:3f}' )\n",
    "    "
   ]
  },
  {
   "cell_type": "code",
   "execution_count": 39,
   "metadata": {},
   "outputs": [
    {
     "data": {
      "image/png": "[encoded data removed]",
      "text/plain": [
       "<Figure size 432x288 with 1 Axes>"
      ]
     },
     "metadata": {
      "needs_background": "light"
     },
     "output_type": "display_data"
    }
   ],
   "source": [
    "## 損失のグラフ化\n",
    "plt.plot(loss_list)\n",
    "plt.ylabel('MES')\n",
    "plt.xlabel('w')\n",
    "plt.show()"
   ]
  },
  {
   "cell_type": "code",
   "execution_count": 40,
   "metadata": {},
   "outputs": [
    {
     "data": {
      "image/png": "[encoded data removed]",
      "text/plain": [
       "<Figure size 432x288 with 1 Axes>"
      ]
     },
     "metadata": {
      "needs_background": "light"
     },
     "output_type": "display_data"
    }
   ],
   "source": [
    "## 傾きのグラフ化\n",
    "plt.plot(w_list)\n",
    "plt.ylabel('MES')\n",
    "plt.xlabel('w')\n",
    "plt.show()"
   ]
  },
  {
   "cell_type": "code",
   "execution_count": 42,
   "metadata": {},
   "outputs": [],
   "source": [
    "import torch \n",
    "import torch.nn as nn"
   ]
  },
  {
   "cell_type": "markdown",
   "metadata": {},
   "source": [
    "### モデルの定義"
   ]
  },
  {
   "cell_type": "code",
   "execution_count": 44,
   "metadata": {},
   "outputs": [],
   "source": [
    "class Model(nn.Module):\n",
    "    def __init__(self, in_features, out_features):\n",
    "        super().__init__()\n",
    "        self.linear = nn.Linear(in_features, out_features)\n",
    "    \n",
    "    def forward(self, x):\n",
    "        y_pred= self.linear(x)\n",
    "        return y_pred"
   ]
  },
  {
   "cell_type": "code",
   "execution_count": 47,
   "metadata": {},
   "outputs": [],
   "source": [
    "torch.manual_seed(3)\n",
    "\n",
    "model = Model(1 ,1)\n",
    "\n",
    "criterion = nn.MSELoss()\n",
    "optimizer = torch.optim.SGD(model.parameters(), lr=0.01)"
   ]
  },
  {
   "cell_type": "code",
   "execution_count": 49,
   "metadata": {},
   "outputs": [],
   "source": [
    "X = torch.tensor([1,2,3,4,5] , dtype=torch.float).view(-1, 1)\n",
    "Y = torch.tensor([3,6,9,12,15] , dtype=torch.float).view(-1, 1)"
   ]
  },
  {
   "cell_type": "code",
   "execution_count": 51,
   "metadata": {},
   "outputs": [],
   "source": [
    "epochs = 30\n",
    "loss_list= []\n",
    "w_list = []\n",
    "\n",
    "for epoch in range(epochs):\n",
    "    y_pred = model.forward(X)\n",
    "    loss_val = criterion(y_pred, Y)\n",
    "    \n",
    "    optimizer.zero_grad()\n",
    "    loss_val.backward()\n",
    "    optimizer.step()\n",
    "    \n",
    "    loss_list.append(loss_val)\n",
    "    w_list.append(model.linear.weight.item())"
   ]
  },
  {
   "cell_type": "code",
   "execution_count": 52,
   "metadata": {},
   "outputs": [
    {
     "data": {
      "text/plain": [
       "[<matplotlib.lines.Line2D at 0x1c9f72fd7b8>]"
      ]
     },
     "execution_count": 52,
     "metadata": {},
     "output_type": "execute_result"
    },
    {
     "data": {
      "image/png": "[encoded data removed]",
      "text/plain": [
       "<Figure size 432x288 with 1 Axes>"
      ]
     },
     "metadata": {
      "needs_background": "light"
     },
     "output_type": "display_data"
    }
   ],
   "source": [
    "plt.plot(loss_list)"
   ]
  },
  {
   "cell_type": "code",
   "execution_count": 53,
   "metadata": {},
   "outputs": [
    {
     "data": {
      "text/plain": [
       "[<matplotlib.lines.Line2D at 0x1c9f861e2e8>]"
      ]
     },
     "execution_count": 53,
     "metadata": {},
     "output_type": "execute_result"
    },
    {
     "data": {
      "image/png": "[encoded data removed]",
      "text/plain": [
       "<Figure size 432x288 with 1 Axes>"
      ]
     },
     "metadata": {
      "needs_background": "light"
     },
     "output_type": "display_data"
    }
   ],
   "source": [
    "plt.plot(w_list)"
   ]
  },
  {
   "cell_type": "code",
   "execution_count": null,
   "metadata": {},
   "outputs": [],
   "source": []
  }
 ],
 "metadata": {
  "kernelspec": {
   "display_name": "Python 3",
   "language": "python",
   "name": "python3"
  },
  "language_info": {
   "codemirror_mode": {
    "name": "ipython",
    "version": 3
   },
   "file_extension": ".py",
   "mimetype": "text/x-python",
   "name": "python",
   "nbconvert_exporter": "python",
   "pygments_lexer": "ipython3",
   "version": "3.7.1"
  }
 },
 "nbformat": 4,
 "nbformat_minor": 4
}
