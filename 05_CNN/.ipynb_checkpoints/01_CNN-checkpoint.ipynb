{
 "cells": [
  {
   "cell_type": "code",
   "execution_count": 1,
   "metadata": {},
   "outputs": [],
   "source": [
    "import torch\n",
    "import torch.nn as nn\n",
    "import torch.nn.functional as F\n",
    "from torch.utils.data import DataLoader\n",
    "from torchvision import datasets, transforms\n",
    "import math\n",
    "import numpy as np\n",
    "import pandas as pd\n",
    "import matplotlib.pyplot as plt\n",
    "%matplotlib inline"
   ]
  },
  {
   "cell_type": "markdown",
   "metadata": {},
   "source": [
    "## データ準備"
   ]
  },
  {
   "cell_type": "code",
   "execution_count": 2,
   "metadata": {},
   "outputs": [],
   "source": [
    "transform = transforms.ToTensor()\n",
    "\n",
    "train_data = datasets.MNIST(root='./data', train=True, download=True,transform=transform)\n",
    "test_data = datasets.MNIST(root='./data', train=False, download=True,transform=transform)"
   ]
  },
  {
   "cell_type": "code",
   "execution_count": 3,
   "metadata": {},
   "outputs": [
    {
     "data": {
      "text/plain": [
       "torch.Size([60000, 28, 28])"
      ]
     },
     "execution_count": 3,
     "metadata": {},
     "output_type": "execute_result"
    }
   ],
   "source": [
    "train_data.data.shape"
   ]
  },
  {
   "cell_type": "code",
   "execution_count": 4,
   "metadata": {},
   "outputs": [
    {
     "data": {
      "text/plain": [
       "Dataset MNIST\n",
       "    Number of datapoints: 10000\n",
       "    Root location: ./data\n",
       "    Split: Test\n",
       "    StandardTransform\n",
       "Transform: ToTensor()"
      ]
     },
     "execution_count": 4,
     "metadata": {},
     "output_type": "execute_result"
    }
   ],
   "source": [
    "test_data"
   ]
  },
  {
   "cell_type": "markdown",
   "metadata": {},
   "source": [
    "## モデル定義"
   ]
  },
  {
   "cell_type": "code",
   "execution_count": 5,
   "metadata": {},
   "outputs": [],
   "source": [
    "class CNNModel(nn.Module):\n",
    "    def __init__(self):\n",
    "        super().__init__()\n",
    "\n",
    "        in_features=1                 # 入力データの層（白黒なので、１）\n",
    "        fil_size = 3                  # 畳み込み層で、切り取る画像のサイズ\n",
    "        st = 1                        # 畳み込み層で、切り取った後に移動する量\n",
    "        o_fil1 = 6                    # 畳み込み層（１層目）の出力するフィルター数\n",
    "        o_fil2 = 16                   # 畳み込み層（２層目）の出力するフィルター数\n",
    "        h1 = 120                      # 全結合層（１層目）のノード数\n",
    "        h2 = 84                       # 全結合層（２層目）のノード数\n",
    "        out_features = 10             # 出力ノード数\n",
    "        \n",
    "        insize = 28   # インプットされる画像のサイズ（２８×２８）\n",
    "        self.pool_size=2\n",
    "        \n",
    "        # 全結合層の入力となるデータサイズ\n",
    "        out_cov1 = (insize-fil_size)/st+1\n",
    "        out_pool1 = math.floor(out_cov1 / self.pool_size)\n",
    "        out_cov2 = (out_pool1 - fil_size)/st+1\n",
    "        out_pool2 = math.floor(out_cov2 / self.pool_size)\n",
    "        print(f'lnear_in {out_pool2}*{out_pool2}*{o_fil2}  = {out_pool2 * out_pool2 * o_fil2} ' )\n",
    "        self.lnear_in = out_pool2 * out_pool2 * o_fil2\n",
    "        print(self.lnear_in)\n",
    "        \n",
    "        # Conv2d\n",
    "        ### 第１引数：カラー（白黒なら１、RGBなら３）\n",
    "        ### 第２引数：出力の数（フィルターの数）\n",
    "        ### 第３引数：フィルターのサイズ（２×２や３×３など） 今回は３×３\n",
    "        ### 第３引数：ストライド（移動量）\n",
    "        self.conv1 = nn.Conv2d(in_features, o_fil1, fil_size, st)\n",
    "        self.conv2 = nn.Conv2d(o_fil1,      o_fil2 ,fil_size, st)\n",
    "        self.fc1 = nn.Linear(self.lnear_in, h1)\n",
    "        self.fc2 = nn.Linear(h1, h2)\n",
    "        self.fc3 = nn.Linear(h2, out_features)\n",
    "    \n",
    "    def forward(self,x):\n",
    "        \n",
    "        # 畳み込み層１層目\n",
    "        x = F.relu(self.conv1(x))\n",
    "        x = F.max_pool2d(x, self.pool_size, self.pool_size)\n",
    "        # 畳み込み層２層目\n",
    "        x = F.relu(self.conv2(x))\n",
    "        x = F.max_pool2d(x, self.pool_size, self.pool_size)\n",
    "        # 平坦化\n",
    "        x = x.view(-1, self.lnear_in)\n",
    "        # 全結合層　１層目\n",
    "        x = F.relu(self.fc1(x))\n",
    "        # 全結合層　２層目\n",
    "        x = F.relu(self.fc2(x))\n",
    "        # 出力層\n",
    "        x = self.fc3(x)\n",
    "        \n",
    "        return x"
   ]
  },
  {
   "cell_type": "code",
   "execution_count": 6,
   "metadata": {},
   "outputs": [
    {
     "name": "stdout",
     "output_type": "stream",
     "text": [
      "lnear_in 5*5*16  = 400 \n",
      "400\n"
     ]
    }
   ],
   "source": [
    "torch.manual_seed(3)\n",
    "model = CNNModel()\n",
    "batchsize = 5\n",
    "\n",
    "train_loader = DataLoader(train_data, batch_size=batchsize, shuffle=True)\n",
    "test_loader = DataLoader(test_data, batch_size=10000, shuffle=False)"
   ]
  },
  {
   "cell_type": "code",
   "execution_count": 7,
   "metadata": {},
   "outputs": [],
   "source": [
    "criterion = nn.CrossEntropyLoss()\n",
    "optimizer = torch.optim.Adam(model.parameters(), lr=0.001)"
   ]
  },
  {
   "cell_type": "code",
   "execution_count": 8,
   "metadata": {},
   "outputs": [
    {
     "name": "stdout",
     "output_type": "stream",
     "text": [
      "Epoch 1 6000/60000  loss: 0.593  accuracy:80.700%\n",
      "Epoch 1 12000/60000  loss: 0.176  accuracy:94.667%\n",
      "Epoch 1 18000/60000  loss: 0.136  accuracy:95.467%\n",
      "Epoch 1 24000/60000  loss: 0.120  accuracy:95.967%\n",
      "Epoch 1 30000/60000  loss: 0.105  accuracy:96.683%\n",
      "Epoch 1 36000/60000  loss: 0.098  accuracy:97.300%\n",
      "Epoch 1 42000/60000  loss: 0.095  accuracy:97.167%\n",
      "Epoch 1 48000/60000  loss: 0.084  accuracy:97.550%\n",
      "Epoch 1 54000/60000  loss: 0.091  accuracy:97.417%\n",
      "Epoch 1 60000/60000  loss: 0.064  accuracy:98.083%\n",
      "Epoch 2 6000/60000  loss: 0.050  accuracy:98.367%\n",
      "Epoch 2 12000/60000  loss: 0.072  accuracy:97.733%\n",
      "Epoch 2 18000/60000  loss: 0.067  accuracy:98.017%\n",
      "Epoch 2 24000/60000  loss: 0.064  accuracy:98.067%\n",
      "Epoch 2 30000/60000  loss: 0.066  accuracy:98.067%\n",
      "Epoch 2 36000/60000  loss: 0.064  accuracy:98.100%\n",
      "Epoch 2 42000/60000  loss: 0.063  accuracy:98.033%\n",
      "Epoch 2 48000/60000  loss: 0.057  accuracy:98.250%\n",
      "Epoch 2 54000/60000  loss: 0.055  accuracy:98.483%\n",
      "Epoch 2 60000/60000  loss: 0.059  accuracy:98.450%\n",
      "Epoch 3 6000/60000  loss: 0.048  accuracy:98.617%\n",
      "Epoch 3 12000/60000  loss: 0.047  accuracy:98.617%\n",
      "Epoch 3 18000/60000  loss: 0.042  accuracy:98.767%\n",
      "Epoch 3 24000/60000  loss: 0.038  accuracy:98.883%\n",
      "Epoch 3 30000/60000  loss: 0.062  accuracy:98.200%\n",
      "Epoch 3 36000/60000  loss: 0.046  accuracy:98.467%\n",
      "Epoch 3 42000/60000  loss: 0.044  accuracy:98.600%\n",
      "Epoch 3 48000/60000  loss: 0.044  accuracy:98.767%\n",
      "Epoch 3 54000/60000  loss: 0.048  accuracy:98.500%\n",
      "Epoch 3 60000/60000  loss: 0.048  accuracy:98.483%\n"
     ]
    }
   ],
   "source": [
    "epochs = 3\n",
    "loss_list = []\n",
    "accuracy_list = []\n",
    "\n",
    "loss_temp = 0\n",
    "\n",
    "for epoch in range(epochs):\n",
    "    correct_counter = 0\n",
    "    \n",
    "    for i, (x_train, y_train) in enumerate(train_loader):\n",
    "        i=i+1\n",
    "        y_pred = model(x_train)\n",
    "        loss = criterion(y_pred, y_train)\n",
    "        \n",
    "        predicted_y = torch.max(y_pred.data, 1)[1]\n",
    "        correct_temp = (predicted_y == y_train).sum()\n",
    "        correct_counter += correct_temp\n",
    "        loss_temp += loss.item()\n",
    "        \n",
    "        optimizer.zero_grad()\n",
    "        loss.backward()\n",
    "        optimizer.step()\n",
    "        \n",
    "        if i%1200 == 0:\n",
    "            lossval = loss_temp/1200\n",
    "            print(f'Epoch {epoch+1} {5*i}/60000  loss: {lossval:.3f}  accuracy:{correct_counter.item()*100/(6000):.3f}%')\n",
    "            \n",
    "            loss_list.append(lossval)\n",
    "            accuracy_list.append(correct_counter.item()*100/(6000))\n",
    "            \n",
    "            loss_temp=0\n",
    "            correct_counter =0\n",
    "    "
   ]
  },
  {
   "cell_type": "code",
   "execution_count": 9,
   "metadata": {},
   "outputs": [
    {
     "data": {
      "text/plain": [
       "[<matplotlib.lines.Line2D at 0x2932038fdd8>]"
      ]
     },
     "execution_count": 9,
     "metadata": {},
     "output_type": "execute_result"
    },
    {
     "name": "stderr",
     "output_type": "stream",
     "text": [
      "findfont: Font family ['IPAexGothic'] not found. Falling back to DejaVu Sans.\n"
     ]
    },
    {
     "data": {
      "image/png": "[encoded data removed]",
      "text/plain": [
       "<Figure size 432x288 with 1 Axes>"
      ]
     },
     "metadata": {
      "needs_background": "light"
     },
     "output_type": "display_data"
    }
   ],
   "source": [
    "plt.plot(loss_list)"
   ]
  },
  {
   "cell_type": "code",
   "execution_count": 10,
   "metadata": {},
   "outputs": [
    {
     "data": {
      "text/plain": [
       "[<matplotlib.lines.Line2D at 0x293202465c0>]"
      ]
     },
     "execution_count": 10,
     "metadata": {},
     "output_type": "execute_result"
    },
    {
     "data": {
      "image/png": "[encoded data removed]",
      "text/plain": [
       "<Figure size 432x288 with 1 Axes>"
      ]
     },
     "metadata": {
      "needs_background": "light"
     },
     "output_type": "display_data"
    }
   ],
   "source": [
    "plt.plot(accuracy_list)"
   ]
  },
  {
   "cell_type": "markdown",
   "metadata": {},
   "source": [
    "# 検証データで評価"
   ]
  },
  {
   "cell_type": "code",
   "execution_count": 11,
   "metadata": {},
   "outputs": [
    {
     "name": "stdout",
     "output_type": "stream",
     "text": [
      "98.82%\n"
     ]
    }
   ],
   "source": [
    "test_accuracy = 0\n",
    "\n",
    "with torch.no_grad():\n",
    "    for i ,(x_test, y_test) in enumerate(test_loader):\n",
    "        y_val = model(x_test)\n",
    "        \n",
    "        predicted_t = torch.max(y_val.data,1)[1]\n",
    "        test_accuracy += (predicted_t == y_test).sum()\n",
    "        print(f'{test_accuracy.item()*100/len(y_test)}%')"
   ]
  },
  {
   "cell_type": "code",
   "execution_count": null,
   "metadata": {},
   "outputs": [],
   "source": []
  }
 ],
 "metadata": {
  "kernelspec": {
   "display_name": "Python 3",
   "language": "python",
   "name": "python3"
  },
  "language_info": {
   "codemirror_mode": {
    "name": "ipython",
    "version": 3
   },
   "file_extension": ".py",
   "mimetype": "text/x-python",
   "name": "python",
   "nbconvert_exporter": "python",
   "pygments_lexer": "ipython3",
   "version": "3.7.1"
  }
 },
 "nbformat": 4,
 "nbformat_minor": 4
}
