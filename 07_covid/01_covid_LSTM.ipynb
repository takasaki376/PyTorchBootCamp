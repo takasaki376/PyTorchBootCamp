{
 "cells": [
  {
   "cell_type": "code",
   "execution_count": 1,
   "metadata": {},
   "outputs": [],
   "source": [
    "import torch \n",
    "import torch.nn as nn\n",
    "import numpy as np\n",
    "import pandas as pd\n",
    "import matplotlib.pyplot as plt\n",
    "%matplotlib inline\n",
    "\n",
    "from pandas.plotting import register_matplotlib_converters"
   ]
  },
  {
   "cell_type": "code",
   "execution_count": 3,
   "metadata": {},
   "outputs": [
    {
     "data": {
      "text/html": [
       "<div>\n",
       "<style scoped>\n",
       "    .dataframe tbody tr th:only-of-type {\n",
       "        vertical-align: middle;\n",
       "    }\n",
       "\n",
       "    .dataframe tbody tr th {\n",
       "        vertical-align: top;\n",
       "    }\n",
       "\n",
       "    .dataframe thead th {\n",
       "        text-align: right;\n",
       "    }\n",
       "</style>\n",
       "<table border=\"1\" class=\"dataframe\">\n",
       "  <thead>\n",
       "    <tr style=\"text-align: right;\">\n",
       "      <th></th>\n",
       "      <th>Province/State</th>\n",
       "      <th>Country/Region</th>\n",
       "      <th>Lat</th>\n",
       "      <th>Long</th>\n",
       "      <th>1/22/20</th>\n",
       "      <th>1/23/20</th>\n",
       "      <th>1/24/20</th>\n",
       "      <th>1/25/20</th>\n",
       "      <th>1/26/20</th>\n",
       "      <th>1/27/20</th>\n",
       "      <th>...</th>\n",
       "      <th>9/7/20</th>\n",
       "      <th>9/8/20</th>\n",
       "      <th>9/9/20</th>\n",
       "      <th>9/10/20</th>\n",
       "      <th>9/11/20</th>\n",
       "      <th>9/12/20</th>\n",
       "      <th>9/13/20</th>\n",
       "      <th>9/14/20</th>\n",
       "      <th>9/15/20</th>\n",
       "      <th>9/16/20</th>\n",
       "    </tr>\n",
       "  </thead>\n",
       "  <tbody>\n",
       "    <tr>\n",
       "      <th>0</th>\n",
       "      <td>NaN</td>\n",
       "      <td>Afghanistan</td>\n",
       "      <td>33.93911</td>\n",
       "      <td>67.709953</td>\n",
       "      <td>0</td>\n",
       "      <td>0</td>\n",
       "      <td>0</td>\n",
       "      <td>0</td>\n",
       "      <td>0</td>\n",
       "      <td>0</td>\n",
       "      <td>...</td>\n",
       "      <td>38494</td>\n",
       "      <td>38520</td>\n",
       "      <td>38544</td>\n",
       "      <td>38572</td>\n",
       "      <td>38606</td>\n",
       "      <td>38641</td>\n",
       "      <td>38716</td>\n",
       "      <td>38772</td>\n",
       "      <td>38815</td>\n",
       "      <td>38855</td>\n",
       "    </tr>\n",
       "    <tr>\n",
       "      <th>1</th>\n",
       "      <td>NaN</td>\n",
       "      <td>Albania</td>\n",
       "      <td>41.15330</td>\n",
       "      <td>20.168300</td>\n",
       "      <td>0</td>\n",
       "      <td>0</td>\n",
       "      <td>0</td>\n",
       "      <td>0</td>\n",
       "      <td>0</td>\n",
       "      <td>0</td>\n",
       "      <td>...</td>\n",
       "      <td>10406</td>\n",
       "      <td>10553</td>\n",
       "      <td>10704</td>\n",
       "      <td>10860</td>\n",
       "      <td>11021</td>\n",
       "      <td>11185</td>\n",
       "      <td>11353</td>\n",
       "      <td>11520</td>\n",
       "      <td>11672</td>\n",
       "      <td>11816</td>\n",
       "    </tr>\n",
       "    <tr>\n",
       "      <th>2</th>\n",
       "      <td>NaN</td>\n",
       "      <td>Algeria</td>\n",
       "      <td>28.03390</td>\n",
       "      <td>1.659600</td>\n",
       "      <td>0</td>\n",
       "      <td>0</td>\n",
       "      <td>0</td>\n",
       "      <td>0</td>\n",
       "      <td>0</td>\n",
       "      <td>0</td>\n",
       "      <td>...</td>\n",
       "      <td>46653</td>\n",
       "      <td>46938</td>\n",
       "      <td>47216</td>\n",
       "      <td>47488</td>\n",
       "      <td>47752</td>\n",
       "      <td>48007</td>\n",
       "      <td>48254</td>\n",
       "      <td>48496</td>\n",
       "      <td>48734</td>\n",
       "      <td>48966</td>\n",
       "    </tr>\n",
       "    <tr>\n",
       "      <th>3</th>\n",
       "      <td>NaN</td>\n",
       "      <td>Andorra</td>\n",
       "      <td>42.50630</td>\n",
       "      <td>1.521800</td>\n",
       "      <td>0</td>\n",
       "      <td>0</td>\n",
       "      <td>0</td>\n",
       "      <td>0</td>\n",
       "      <td>0</td>\n",
       "      <td>0</td>\n",
       "      <td>...</td>\n",
       "      <td>1261</td>\n",
       "      <td>1261</td>\n",
       "      <td>1301</td>\n",
       "      <td>1301</td>\n",
       "      <td>1344</td>\n",
       "      <td>1344</td>\n",
       "      <td>1344</td>\n",
       "      <td>1438</td>\n",
       "      <td>1438</td>\n",
       "      <td>1483</td>\n",
       "    </tr>\n",
       "    <tr>\n",
       "      <th>4</th>\n",
       "      <td>NaN</td>\n",
       "      <td>Angola</td>\n",
       "      <td>-11.20270</td>\n",
       "      <td>17.873900</td>\n",
       "      <td>0</td>\n",
       "      <td>0</td>\n",
       "      <td>0</td>\n",
       "      <td>0</td>\n",
       "      <td>0</td>\n",
       "      <td>0</td>\n",
       "      <td>...</td>\n",
       "      <td>2981</td>\n",
       "      <td>3033</td>\n",
       "      <td>3092</td>\n",
       "      <td>3217</td>\n",
       "      <td>3279</td>\n",
       "      <td>3335</td>\n",
       "      <td>3388</td>\n",
       "      <td>3439</td>\n",
       "      <td>3569</td>\n",
       "      <td>3675</td>\n",
       "    </tr>\n",
       "  </tbody>\n",
       "</table>\n",
       "<p>5 rows × 243 columns</p>\n",
       "</div>"
      ],
      "text/plain": [
       "  Province/State Country/Region       Lat       Long  1/22/20  1/23/20  \\\n",
       "0            NaN    Afghanistan  33.93911  67.709953        0        0   \n",
       "1            NaN        Albania  41.15330  20.168300        0        0   \n",
       "2            NaN        Algeria  28.03390   1.659600        0        0   \n",
       "3            NaN        Andorra  42.50630   1.521800        0        0   \n",
       "4            NaN         Angola -11.20270  17.873900        0        0   \n",
       "\n",
       "   1/24/20  1/25/20  1/26/20  1/27/20  ...  9/7/20  9/8/20  9/9/20  9/10/20  \\\n",
       "0        0        0        0        0  ...   38494   38520   38544    38572   \n",
       "1        0        0        0        0  ...   10406   10553   10704    10860   \n",
       "2        0        0        0        0  ...   46653   46938   47216    47488   \n",
       "3        0        0        0        0  ...    1261    1261    1301     1301   \n",
       "4        0        0        0        0  ...    2981    3033    3092     3217   \n",
       "\n",
       "   9/11/20  9/12/20  9/13/20  9/14/20  9/15/20  9/16/20  \n",
       "0    38606    38641    38716    38772    38815    38855  \n",
       "1    11021    11185    11353    11520    11672    11816  \n",
       "2    47752    48007    48254    48496    48734    48966  \n",
       "3     1344     1344     1344     1438     1438     1483  \n",
       "4     3279     3335     3388     3439     3569     3675  \n",
       "\n",
       "[5 rows x 243 columns]"
      ]
     },
     "execution_count": 3,
     "metadata": {},
     "output_type": "execute_result"
    }
   ],
   "source": [
    "df = pd.read_csv('time_series_covid19_confirmed_global.csv')\n",
    "df.head()"
   ]
  },
  {
   "cell_type": "code",
   "execution_count": 5,
   "metadata": {},
   "outputs": [
    {
     "data": {
      "text/html": [
       "<div>\n",
       "<style scoped>\n",
       "    .dataframe tbody tr th:only-of-type {\n",
       "        vertical-align: middle;\n",
       "    }\n",
       "\n",
       "    .dataframe tbody tr th {\n",
       "        vertical-align: top;\n",
       "    }\n",
       "\n",
       "    .dataframe thead th {\n",
       "        text-align: right;\n",
       "    }\n",
       "</style>\n",
       "<table border=\"1\" class=\"dataframe\">\n",
       "  <thead>\n",
       "    <tr style=\"text-align: right;\">\n",
       "      <th></th>\n",
       "      <th>2/24/20</th>\n",
       "      <th>2/25/20</th>\n",
       "      <th>2/26/20</th>\n",
       "      <th>2/27/20</th>\n",
       "      <th>2/28/20</th>\n",
       "      <th>2/29/20</th>\n",
       "      <th>3/1/20</th>\n",
       "      <th>3/2/20</th>\n",
       "      <th>3/3/20</th>\n",
       "      <th>3/4/20</th>\n",
       "      <th>...</th>\n",
       "      <th>9/7/20</th>\n",
       "      <th>9/8/20</th>\n",
       "      <th>9/9/20</th>\n",
       "      <th>9/10/20</th>\n",
       "      <th>9/11/20</th>\n",
       "      <th>9/12/20</th>\n",
       "      <th>9/13/20</th>\n",
       "      <th>9/14/20</th>\n",
       "      <th>9/15/20</th>\n",
       "      <th>9/16/20</th>\n",
       "    </tr>\n",
       "  </thead>\n",
       "  <tbody>\n",
       "    <tr>\n",
       "      <th>0</th>\n",
       "      <td>1</td>\n",
       "      <td>1</td>\n",
       "      <td>1</td>\n",
       "      <td>1</td>\n",
       "      <td>1</td>\n",
       "      <td>1</td>\n",
       "      <td>1</td>\n",
       "      <td>1</td>\n",
       "      <td>1</td>\n",
       "      <td>1</td>\n",
       "      <td>...</td>\n",
       "      <td>38494</td>\n",
       "      <td>38520</td>\n",
       "      <td>38544</td>\n",
       "      <td>38572</td>\n",
       "      <td>38606</td>\n",
       "      <td>38641</td>\n",
       "      <td>38716</td>\n",
       "      <td>38772</td>\n",
       "      <td>38815</td>\n",
       "      <td>38855</td>\n",
       "    </tr>\n",
       "    <tr>\n",
       "      <th>1</th>\n",
       "      <td>0</td>\n",
       "      <td>0</td>\n",
       "      <td>0</td>\n",
       "      <td>0</td>\n",
       "      <td>0</td>\n",
       "      <td>0</td>\n",
       "      <td>0</td>\n",
       "      <td>0</td>\n",
       "      <td>0</td>\n",
       "      <td>0</td>\n",
       "      <td>...</td>\n",
       "      <td>10406</td>\n",
       "      <td>10553</td>\n",
       "      <td>10704</td>\n",
       "      <td>10860</td>\n",
       "      <td>11021</td>\n",
       "      <td>11185</td>\n",
       "      <td>11353</td>\n",
       "      <td>11520</td>\n",
       "      <td>11672</td>\n",
       "      <td>11816</td>\n",
       "    </tr>\n",
       "    <tr>\n",
       "      <th>2</th>\n",
       "      <td>0</td>\n",
       "      <td>1</td>\n",
       "      <td>1</td>\n",
       "      <td>1</td>\n",
       "      <td>1</td>\n",
       "      <td>1</td>\n",
       "      <td>1</td>\n",
       "      <td>3</td>\n",
       "      <td>5</td>\n",
       "      <td>12</td>\n",
       "      <td>...</td>\n",
       "      <td>46653</td>\n",
       "      <td>46938</td>\n",
       "      <td>47216</td>\n",
       "      <td>47488</td>\n",
       "      <td>47752</td>\n",
       "      <td>48007</td>\n",
       "      <td>48254</td>\n",
       "      <td>48496</td>\n",
       "      <td>48734</td>\n",
       "      <td>48966</td>\n",
       "    </tr>\n",
       "    <tr>\n",
       "      <th>3</th>\n",
       "      <td>0</td>\n",
       "      <td>0</td>\n",
       "      <td>0</td>\n",
       "      <td>0</td>\n",
       "      <td>0</td>\n",
       "      <td>0</td>\n",
       "      <td>0</td>\n",
       "      <td>1</td>\n",
       "      <td>1</td>\n",
       "      <td>1</td>\n",
       "      <td>...</td>\n",
       "      <td>1261</td>\n",
       "      <td>1261</td>\n",
       "      <td>1301</td>\n",
       "      <td>1301</td>\n",
       "      <td>1344</td>\n",
       "      <td>1344</td>\n",
       "      <td>1344</td>\n",
       "      <td>1438</td>\n",
       "      <td>1438</td>\n",
       "      <td>1483</td>\n",
       "    </tr>\n",
       "    <tr>\n",
       "      <th>4</th>\n",
       "      <td>0</td>\n",
       "      <td>0</td>\n",
       "      <td>0</td>\n",
       "      <td>0</td>\n",
       "      <td>0</td>\n",
       "      <td>0</td>\n",
       "      <td>0</td>\n",
       "      <td>0</td>\n",
       "      <td>0</td>\n",
       "      <td>0</td>\n",
       "      <td>...</td>\n",
       "      <td>2981</td>\n",
       "      <td>3033</td>\n",
       "      <td>3092</td>\n",
       "      <td>3217</td>\n",
       "      <td>3279</td>\n",
       "      <td>3335</td>\n",
       "      <td>3388</td>\n",
       "      <td>3439</td>\n",
       "      <td>3569</td>\n",
       "      <td>3675</td>\n",
       "    </tr>\n",
       "  </tbody>\n",
       "</table>\n",
       "<p>5 rows × 206 columns</p>\n",
       "</div>"
      ],
      "text/plain": [
       "   2/24/20  2/25/20  2/26/20  2/27/20  2/28/20  2/29/20  3/1/20  3/2/20  \\\n",
       "0        1        1        1        1        1        1       1       1   \n",
       "1        0        0        0        0        0        0       0       0   \n",
       "2        0        1        1        1        1        1       1       3   \n",
       "3        0        0        0        0        0        0       0       1   \n",
       "4        0        0        0        0        0        0       0       0   \n",
       "\n",
       "   3/3/20  3/4/20  ...  9/7/20  9/8/20  9/9/20  9/10/20  9/11/20  9/12/20  \\\n",
       "0       1       1  ...   38494   38520   38544    38572    38606    38641   \n",
       "1       0       0  ...   10406   10553   10704    10860    11021    11185   \n",
       "2       5      12  ...   46653   46938   47216    47488    47752    48007   \n",
       "3       1       1  ...    1261    1261    1301     1301     1344     1344   \n",
       "4       0       0  ...    2981    3033    3092     3217     3279     3335   \n",
       "\n",
       "   9/13/20  9/14/20  9/15/20  9/16/20  \n",
       "0    38716    38772    38815    38855  \n",
       "1    11353    11520    11672    11816  \n",
       "2    48254    48496    48734    48966  \n",
       "3     1344     1438     1438     1483  \n",
       "4     3388     3439     3569     3675  \n",
       "\n",
       "[5 rows x 206 columns]"
      ]
     },
     "execution_count": 5,
     "metadata": {},
     "output_type": "execute_result"
    }
   ],
   "source": [
    "df = df.iloc[:,37:]\n",
    "df.head()"
   ]
  },
  {
   "cell_type": "code",
   "execution_count": 6,
   "metadata": {},
   "outputs": [
    {
     "data": {
      "text/plain": [
       "2/24/20    79545\n",
       "2/25/20    80398\n",
       "2/26/20    81375\n",
       "2/27/20    82735\n",
       "2/28/20    84120\n",
       "dtype: int64"
      ]
     },
     "execution_count": 6,
     "metadata": {},
     "output_type": "execute_result"
    }
   ],
   "source": [
    "daily_global = df.sum(axis=0)\n",
    "daily_global.head()"
   ]
  },
  {
   "cell_type": "code",
   "execution_count": 7,
   "metadata": {},
   "outputs": [],
   "source": [
    "daily_global.index = pd.to_datetime(daily_global.index)"
   ]
  },
  {
   "cell_type": "code",
   "execution_count": 8,
   "metadata": {},
   "outputs": [
    {
     "data": {
      "text/plain": [
       "2020-02-24       79545\n",
       "2020-02-25       80398\n",
       "2020-02-26       81375\n",
       "2020-02-27       82735\n",
       "2020-02-28       84120\n",
       "                ...   \n",
       "2020-09-12    28758945\n",
       "2020-09-13    28995373\n",
       "2020-09-14    29190841\n",
       "2020-09-15    29558869\n",
       "2020-09-16    29764055\n",
       "Length: 206, dtype: int64"
      ]
     },
     "execution_count": 8,
     "metadata": {},
     "output_type": "execute_result"
    }
   ],
   "source": [
    "daily_global"
   ]
  },
  {
   "cell_type": "code",
   "execution_count": 9,
   "metadata": {},
   "outputs": [
    {
     "data": {
      "text/plain": [
       "[<matplotlib.lines.Line2D at 0x17132db2940>]"
      ]
     },
     "execution_count": 9,
     "metadata": {},
     "output_type": "execute_result"
    },
    {
     "name": "stderr",
     "output_type": "stream",
     "text": [
      "findfont: Font family ['IPAexGothic'] not found. Falling back to DejaVu Sans.\n"
     ]
    },
    {
     "data": {
      "image/png": "[encoded data removed]",
      "text/plain": [
       "<Figure size 432x288 with 1 Axes>"
      ]
     },
     "metadata": {
      "needs_background": "light"
     },
     "output_type": "display_data"
    }
   ],
   "source": [
    "plt.plot(daily_global)"
   ]
  },
  {
   "cell_type": "markdown",
   "metadata": {},
   "source": [
    "## データ加工（前処理"
   ]
  },
  {
   "cell_type": "code",
   "execution_count": 10,
   "metadata": {},
   "outputs": [],
   "source": [
    "y=daily_global.values.astype(float)"
   ]
  },
  {
   "cell_type": "code",
   "execution_count": 11,
   "metadata": {},
   "outputs": [],
   "source": [
    "test_size=3\n",
    "train_original_data = y[:-test_size]\n",
    "test_original_data=y[-test_size:]"
   ]
  },
  {
   "cell_type": "code",
   "execution_count": 12,
   "metadata": {},
   "outputs": [],
   "source": [
    "from sklearn.preprocessing import MinMaxScaler\n",
    "scaler = MinMaxScaler(feature_range=(-1,1))"
   ]
  },
  {
   "cell_type": "code",
   "execution_count": 13,
   "metadata": {},
   "outputs": [
    {
     "data": {
      "text/plain": [
       "(203, 1)"
      ]
     },
     "execution_count": 13,
     "metadata": {},
     "output_type": "execute_result"
    }
   ],
   "source": [
    "train_normalized = scaler.fit_transform(train_original_data.reshape(-1,1))\n",
    "train_normalized.shape"
   ]
  },
  {
   "cell_type": "code",
   "execution_count": 14,
   "metadata": {},
   "outputs": [],
   "source": [
    "train_normalized = torch.FloatTensor(train_normalized).view(-1)\n",
    "window_size=3"
   ]
  },
  {
   "cell_type": "markdown",
   "metadata": {},
   "source": [
    "## モデル定義"
   ]
  },
  {
   "cell_type": "code",
   "execution_count": 15,
   "metadata": {},
   "outputs": [],
   "source": [
    "def sequence_creator(input_data, window):\n",
    "    dataset = []\n",
    "    data_len = len(input_data)\n",
    "    for i in range(data_len- window):\n",
    "        window_fr = input_data[i:i+window]\n",
    "        label = input_data[i+window:i+window+1]\n",
    "        dataset.append((window_fr, label))\n",
    "    return dataset"
   ]
  },
  {
   "cell_type": "code",
   "execution_count": 16,
   "metadata": {},
   "outputs": [],
   "source": [
    "train_data = sequence_creator(train_normalized,window_size)"
   ]
  },
  {
   "cell_type": "code",
   "execution_count": 33,
   "metadata": {},
   "outputs": [],
   "source": [
    "class LSTM_Corona(nn.Module):\n",
    "    def __init__(self, in_size=1, h_size=30, out_size=1):\n",
    "        super().__init__()\n",
    "        self.h_size = h_size\n",
    "        self.lstm = nn.LSTM(in_size, h_size)\n",
    "        self.fc = nn.Linear(h_size, out_size)\n",
    "        \n",
    "        self.hidden = (torch.zeros(1,1, h_size), torch.zeros(1,1,h_size))\n",
    "        \n",
    "    def forward(self, sequence_data):\n",
    "        lstm_out, self.hidden = self.lstm(sequence_data.view(len(sequence_data), 1, -1),self.hidden)\n",
    "        pred = self.fc(lstm_out.view(len(sequence_data), -1))\n",
    "        \n",
    "        return pred[-1]"
   ]
  },
  {
   "cell_type": "code",
   "execution_count": 34,
   "metadata": {},
   "outputs": [],
   "source": [
    "torch.manual_seed(3)\n",
    "model = LSTM_Corona()\n",
    "criterion = nn.MSELoss()\n",
    "optimizer = torch.optim.Adam(model.parameters(), lr=0.001)"
   ]
  },
  {
   "cell_type": "markdown",
   "metadata": {},
   "source": [
    "## 学習する"
   ]
  },
  {
   "cell_type": "code",
   "execution_count": 36,
   "metadata": {},
   "outputs": [
    {
     "name": "stdout",
     "output_type": "stream",
     "text": [
      "Epoch 1 Loss 0.000000\n",
      "Epoch 2 Loss 0.000151\n",
      "Epoch 3 Loss 0.000060\n",
      "Epoch 4 Loss 0.000042\n",
      "Epoch 5 Loss 0.000036\n",
      "Epoch 6 Loss 0.000030\n",
      "Epoch 7 Loss 0.000024\n",
      "Epoch 8 Loss 0.000019\n",
      "Epoch 9 Loss 0.000016\n",
      "Epoch 10 Loss 0.000014\n",
      "Epoch 11 Loss 0.000014\n",
      "Epoch 12 Loss 0.000013\n",
      "Epoch 13 Loss 0.000013\n",
      "Epoch 14 Loss 0.000011\n",
      "Epoch 15 Loss 0.000010\n",
      "Epoch 16 Loss 0.000007\n",
      "Epoch 17 Loss 0.000004\n",
      "Epoch 18 Loss 0.000002\n",
      "Epoch 19 Loss 0.000000\n",
      "Epoch 20 Loss 0.000000\n",
      "Epoch 21 Loss 0.000001\n",
      "Epoch 22 Loss 0.000002\n",
      "Epoch 23 Loss 0.000004\n",
      "Epoch 24 Loss 0.000006\n",
      "Epoch 25 Loss 0.000008\n",
      "Epoch 26 Loss 0.000010\n",
      "Epoch 27 Loss 0.000012\n",
      "Epoch 28 Loss 0.000014\n",
      "Epoch 29 Loss 0.000013\n",
      "Epoch 30 Loss 0.000016\n",
      "Epoch 31 Loss 0.000016\n",
      "Epoch 32 Loss 0.000017\n",
      "Epoch 33 Loss 0.000017\n",
      "Epoch 34 Loss 0.000018\n",
      "Epoch 35 Loss 0.000020\n",
      "Epoch 36 Loss 0.000024\n",
      "Epoch 37 Loss 0.000029\n",
      "Epoch 38 Loss 0.000040\n",
      "Epoch 39 Loss 0.000050\n",
      "Epoch 40 Loss 0.000064\n",
      "Epoch 41 Loss 0.000085\n",
      "Epoch 42 Loss 0.000102\n",
      "Epoch 43 Loss 0.000122\n",
      "Epoch 44 Loss 0.000147\n",
      "Epoch 45 Loss 0.000175\n",
      "Epoch 46 Loss 0.000210\n",
      "Epoch 47 Loss 0.000203\n",
      "Epoch 48 Loss 0.000223\n",
      "Epoch 49 Loss 0.000226\n",
      "Epoch 50 Loss 0.000253\n",
      "Epoch 51 Loss 0.000257\n",
      "Epoch 52 Loss 0.000271\n",
      "Epoch 53 Loss 0.000290\n",
      "Epoch 54 Loss 0.000293\n",
      "Epoch 55 Loss 0.000319\n",
      "Epoch 56 Loss 0.000328\n",
      "Epoch 57 Loss 0.000339\n",
      "Epoch 58 Loss 0.000351\n",
      "Epoch 59 Loss 0.000377\n",
      "Epoch 60 Loss 0.000396\n",
      "Epoch 61 Loss 0.000388\n",
      "Epoch 62 Loss 0.000397\n",
      "Epoch 63 Loss 0.000380\n",
      "Epoch 64 Loss 0.000418\n",
      "Epoch 65 Loss 0.000397\n",
      "Epoch 66 Loss 0.000409\n",
      "Epoch 67 Loss 0.000415\n",
      "Epoch 68 Loss 0.000418\n",
      "Epoch 69 Loss 0.000422\n",
      "Epoch 70 Loss 0.000425\n",
      "Epoch 71 Loss 0.000438\n",
      "Epoch 72 Loss 0.000441\n",
      "Epoch 73 Loss 0.000466\n",
      "Epoch 74 Loss 0.000440\n",
      "Epoch 75 Loss 0.000413\n",
      "Epoch 76 Loss 0.000431\n",
      "Epoch 77 Loss 0.000417\n",
      "Epoch 78 Loss 0.000445\n",
      "Epoch 79 Loss 0.000409\n",
      "Epoch 80 Loss 0.000473\n",
      "Epoch 81 Loss 0.000404\n",
      "Epoch 82 Loss 0.000441\n",
      "Epoch 83 Loss 0.000444\n",
      "Epoch 84 Loss 0.000452\n",
      "Epoch 85 Loss 0.000430\n",
      "Epoch 86 Loss 0.000418\n",
      "Epoch 87 Loss 0.000427\n",
      "Epoch 88 Loss 0.000414\n",
      "Epoch 89 Loss 0.000422\n",
      "Epoch 90 Loss 0.000417\n",
      "Epoch 91 Loss 0.000445\n",
      "Epoch 92 Loss 0.000415\n",
      "Epoch 93 Loss 0.000443\n",
      "Epoch 94 Loss 0.000431\n",
      "Epoch 95 Loss 0.000428\n",
      "Epoch 96 Loss 0.000418\n",
      "Epoch 97 Loss 0.000414\n",
      "Epoch 98 Loss 0.000431\n",
      "Epoch 99 Loss 0.000422\n",
      "Epoch 100 Loss 0.000414\n"
     ]
    }
   ],
   "source": [
    "epochs = 100\n",
    "\n",
    "for epoch in range(epochs):\n",
    "    for sequence_in, y_train in train_data:\n",
    "        y_pred = model(sequence_in)\n",
    "        loss = criterion(y_pred, y_train)\n",
    "\n",
    "        \n",
    "        optimizer .zero_grad()\n",
    "        model.hidden = (torch.zeros(1,1, model.h_size), torch.zeros(1,1,model.h_size))\n",
    "        \n",
    "        loss.backward()\n",
    "        optimizer.step()\n",
    "        \n",
    "    print(f'Epoch {epoch+1} Loss {loss.item():.6f}' )\n",
    "    "
   ]
  },
  {
   "cell_type": "markdown",
   "metadata": {},
   "source": [
    "## 予測する"
   ]
  },
  {
   "cell_type": "code",
   "execution_count": 37,
   "metadata": {},
   "outputs": [],
   "source": [
    "test=3\n",
    "\n",
    "preds = train_normalized[-window_size:].tolist()\n",
    "model.eval()\n",
    "for i in range(test):\n",
    "    sequence = torch.FloatTensor(preds[-window_size:])\n",
    "    with torch.no_grad():\n",
    "        model.hidden = (torch.zeros(1, 1,model.h_size), torch.zeros(1, 1, model.h_size))\n",
    "        preds.append(model(sequence).item())"
   ]
  },
  {
   "cell_type": "code",
   "execution_count": 40,
   "metadata": {},
   "outputs": [],
   "source": [
    "preductions = scaler.inverse_transform(np.array(preds[window_size:]).reshape(-1,1))"
   ]
  },
  {
   "cell_type": "code",
   "execution_count": 41,
   "metadata": {},
   "outputs": [
    {
     "data": {
      "text/plain": [
       "array([[29452196.52536226],\n",
       "       [29688454.60217381],\n",
       "       [29910448.8468616 ]])"
      ]
     },
     "execution_count": 41,
     "metadata": {},
     "output_type": "execute_result"
    }
   ],
   "source": [
    "preductions"
   ]
  },
  {
   "cell_type": "code",
   "execution_count": 47,
   "metadata": {},
   "outputs": [
    {
     "data": {
      "text/plain": [
       "array(['2020-09-16', '2020-09-17', '2020-09-18'], dtype='datetime64[D]')"
      ]
     },
     "execution_count": 47,
     "metadata": {},
     "output_type": "execute_result"
    }
   ],
   "source": [
    "x = np.arange('2020-09-16','2020-09-19', dtype='datetime64[D]').astype('datetime64[D]')\n",
    "x"
   ]
  },
  {
   "cell_type": "code",
   "execution_count": 50,
   "metadata": {},
   "outputs": [
    {
     "data": {
      "image/png": "[encoded data removed]",
      "text/plain": [
       "<Figure size 864x360 with 1 Axes>"
      ]
     },
     "metadata": {
      "needs_background": "light"
     },
     "output_type": "display_data"
    }
   ],
   "source": [
    "plt.figure(figsize=(12,5))\n",
    "plt.grid(True)\n",
    "plt.plot(daily_global)\n",
    "plt.plot(x,preductions)\n",
    "plt.show()"
   ]
  },
  {
   "cell_type": "markdown",
   "metadata": {},
   "source": [
    "## 未来日の予測"
   ]
  },
  {
   "cell_type": "code",
   "execution_count": 52,
   "metadata": {},
   "outputs": [
    {
     "data": {
      "text/plain": [
       "LSTM_Corona(\n",
       "  (lstm): LSTM(1, 30)\n",
       "  (fc): Linear(in_features=30, out_features=1, bias=True)\n",
       ")"
      ]
     },
     "execution_count": 52,
     "metadata": {},
     "output_type": "execute_result"
    }
   ],
   "source": [
    "epochs = 200\n",
    "windows_size = 30\n",
    "unknow = 30\n",
    "\n",
    "y_normalized = scaler.fit_transform(y.reshape(-1,1))\n",
    "y_normalized = torch.FloatTensor(y_normalized).view(-1)\n",
    "full_data = sequence_creator(y_normalized, window_size)\n",
    "\n",
    "model.train()"
   ]
  },
  {
   "cell_type": "code",
   "execution_count": 54,
   "metadata": {},
   "outputs": [
    {
     "name": "stdout",
     "output_type": "stream",
     "text": [
      "Epoch 1 Loss 0.000008\n",
      "Epoch 2 Loss 0.000015\n",
      "Epoch 3 Loss 0.000028\n",
      "Epoch 4 Loss 0.000044\n",
      "Epoch 5 Loss 0.000063\n",
      "Epoch 6 Loss 0.000085\n",
      "Epoch 7 Loss 0.000112\n",
      "Epoch 8 Loss 0.000140\n",
      "Epoch 9 Loss 0.000169\n",
      "Epoch 10 Loss 0.000197\n",
      "Epoch 11 Loss 0.000223\n",
      "Epoch 12 Loss 0.000245\n",
      "Epoch 13 Loss 0.000265\n",
      "Epoch 14 Loss 0.000281\n",
      "Epoch 15 Loss 0.000295\n",
      "Epoch 16 Loss 0.000306\n",
      "Epoch 17 Loss 0.000315\n",
      "Epoch 18 Loss 0.000322\n",
      "Epoch 19 Loss 0.000328\n",
      "Epoch 20 Loss 0.000333\n",
      "Epoch 21 Loss 0.000337\n",
      "Epoch 22 Loss 0.000340\n",
      "Epoch 23 Loss 0.000343\n",
      "Epoch 24 Loss 0.000345\n",
      "Epoch 25 Loss 0.000346\n",
      "Epoch 26 Loss 0.000347\n",
      "Epoch 27 Loss 0.000347\n",
      "Epoch 28 Loss 0.000352\n",
      "Epoch 29 Loss 0.000356\n",
      "Epoch 30 Loss 0.000351\n",
      "Epoch 31 Loss 0.000344\n",
      "Epoch 32 Loss 0.000344\n",
      "Epoch 33 Loss 0.000344\n",
      "Epoch 34 Loss 0.000349\n",
      "Epoch 35 Loss 0.000347\n",
      "Epoch 36 Loss 0.000342\n",
      "Epoch 37 Loss 0.000341\n",
      "Epoch 38 Loss 0.000340\n",
      "Epoch 39 Loss 0.000337\n",
      "Epoch 40 Loss 0.000336\n",
      "Epoch 41 Loss 0.000334\n",
      "Epoch 42 Loss 0.000333\n",
      "Epoch 43 Loss 0.000331\n",
      "Epoch 44 Loss 0.000331\n",
      "Epoch 45 Loss 0.000330\n",
      "Epoch 46 Loss 0.000333\n",
      "Epoch 47 Loss 0.000325\n",
      "Epoch 48 Loss 0.000322\n",
      "Epoch 49 Loss 0.000320\n",
      "Epoch 50 Loss 0.000319\n",
      "Epoch 51 Loss 0.000318\n",
      "Epoch 52 Loss 0.000318\n",
      "Epoch 53 Loss 0.000313\n",
      "Epoch 54 Loss 0.000311\n",
      "Epoch 55 Loss 0.000308\n",
      "Epoch 56 Loss 0.000307\n",
      "Epoch 57 Loss 0.000305\n",
      "Epoch 58 Loss 0.000305\n",
      "Epoch 59 Loss 0.000300\n",
      "Epoch 60 Loss 0.000300\n",
      "Epoch 61 Loss 0.000296\n",
      "Epoch 62 Loss 0.000296\n",
      "Epoch 63 Loss 0.000291\n",
      "Epoch 64 Loss 0.000289\n",
      "Epoch 65 Loss 0.000286\n",
      "Epoch 66 Loss 0.000285\n",
      "Epoch 67 Loss 0.000283\n",
      "Epoch 68 Loss 0.000284\n",
      "Epoch 69 Loss 0.000278\n",
      "Epoch 70 Loss 0.000276\n",
      "Epoch 71 Loss 0.000272\n",
      "Epoch 72 Loss 0.000271\n",
      "Epoch 73 Loss 0.000268\n",
      "Epoch 74 Loss 0.000266\n",
      "Epoch 75 Loss 0.000263\n",
      "Epoch 76 Loss 0.000261\n",
      "Epoch 77 Loss 0.000258\n",
      "Epoch 78 Loss 0.000257\n",
      "Epoch 79 Loss 0.000254\n",
      "Epoch 80 Loss 0.000252\n",
      "Epoch 81 Loss 0.000249\n",
      "Epoch 82 Loss 0.000247\n",
      "Epoch 83 Loss 0.000244\n",
      "Epoch 84 Loss 0.000242\n",
      "Epoch 85 Loss 0.000240\n",
      "Epoch 86 Loss 0.000238\n",
      "Epoch 87 Loss 0.000235\n",
      "Epoch 88 Loss 0.000233\n",
      "Epoch 89 Loss 0.000231\n",
      "Epoch 90 Loss 0.000228\n",
      "Epoch 91 Loss 0.000226\n",
      "Epoch 92 Loss 0.000224\n",
      "Epoch 93 Loss 0.000221\n",
      "Epoch 94 Loss 0.000219\n",
      "Epoch 95 Loss 0.000216\n",
      "Epoch 96 Loss 0.000214\n",
      "Epoch 97 Loss 0.000211\n",
      "Epoch 98 Loss 0.000209\n",
      "Epoch 99 Loss 0.000207\n",
      "Epoch 100 Loss 0.000204\n",
      "Epoch 101 Loss 0.000202\n",
      "Epoch 102 Loss 0.000199\n",
      "Epoch 103 Loss 0.000197\n",
      "Epoch 104 Loss 0.000194\n",
      "Epoch 105 Loss 0.000192\n",
      "Epoch 106 Loss 0.000190\n",
      "Epoch 107 Loss 0.000187\n",
      "Epoch 108 Loss 0.000185\n",
      "Epoch 109 Loss 0.000183\n",
      "Epoch 110 Loss 0.000180\n",
      "Epoch 111 Loss 0.000178\n",
      "Epoch 112 Loss 0.000175\n",
      "Epoch 113 Loss 0.000173\n",
      "Epoch 114 Loss 0.000170\n",
      "Epoch 115 Loss 0.000168\n",
      "Epoch 116 Loss 0.000165\n",
      "Epoch 117 Loss 0.000163\n",
      "Epoch 118 Loss 0.000160\n",
      "Epoch 119 Loss 0.000159\n",
      "Epoch 120 Loss 0.000154\n",
      "Epoch 121 Loss 0.000155\n",
      "Epoch 122 Loss 0.000148\n",
      "Epoch 123 Loss 0.000154\n",
      "Epoch 124 Loss 0.000139\n",
      "Epoch 125 Loss 0.000152\n",
      "Epoch 126 Loss 0.000139\n",
      "Epoch 127 Loss 0.000144\n",
      "Epoch 128 Loss 0.000138\n",
      "Epoch 129 Loss 0.000138\n",
      "Epoch 130 Loss 0.000132\n",
      "Epoch 131 Loss 0.000135\n",
      "Epoch 132 Loss 0.000127\n",
      "Epoch 133 Loss 0.000131\n",
      "Epoch 134 Loss 0.000120\n",
      "Epoch 135 Loss 0.000128\n",
      "Epoch 136 Loss 0.000115\n",
      "Epoch 137 Loss 0.000124\n",
      "Epoch 138 Loss 0.000111\n",
      "Epoch 139 Loss 0.000118\n",
      "Epoch 140 Loss 0.000108\n",
      "Epoch 141 Loss 0.000113\n",
      "Epoch 142 Loss 0.000103\n",
      "Epoch 143 Loss 0.000108\n",
      "Epoch 144 Loss 0.000098\n",
      "Epoch 145 Loss 0.000103\n",
      "Epoch 146 Loss 0.000093\n",
      "Epoch 147 Loss 0.000098\n",
      "Epoch 148 Loss 0.000088\n",
      "Epoch 149 Loss 0.000093\n",
      "Epoch 150 Loss 0.000083\n",
      "Epoch 151 Loss 0.000087\n",
      "Epoch 152 Loss 0.000079\n",
      "Epoch 153 Loss 0.000082\n",
      "Epoch 154 Loss 0.000074\n",
      "Epoch 155 Loss 0.000078\n",
      "Epoch 156 Loss 0.000069\n",
      "Epoch 157 Loss 0.000073\n",
      "Epoch 158 Loss 0.000066\n",
      "Epoch 159 Loss 0.000069\n",
      "Epoch 160 Loss 0.000062\n",
      "Epoch 161 Loss 0.000065\n",
      "Epoch 162 Loss 0.000059\n",
      "Epoch 163 Loss 0.000062\n",
      "Epoch 164 Loss 0.000055\n",
      "Epoch 165 Loss 0.000058\n",
      "Epoch 166 Loss 0.000053\n",
      "Epoch 167 Loss 0.000055\n",
      "Epoch 168 Loss 0.000050\n",
      "Epoch 169 Loss 0.000053\n",
      "Epoch 170 Loss 0.000048\n",
      "Epoch 171 Loss 0.000051\n",
      "Epoch 172 Loss 0.000046\n",
      "Epoch 173 Loss 0.000049\n",
      "Epoch 174 Loss 0.000044\n",
      "Epoch 175 Loss 0.000047\n",
      "Epoch 176 Loss 0.000043\n",
      "Epoch 177 Loss 0.000045\n",
      "Epoch 178 Loss 0.000042\n",
      "Epoch 179 Loss 0.000044\n",
      "Epoch 180 Loss 0.000041\n",
      "Epoch 181 Loss 0.000044\n",
      "Epoch 182 Loss 0.000040\n",
      "Epoch 183 Loss 0.000043\n",
      "Epoch 184 Loss 0.000040\n",
      "Epoch 185 Loss 0.000042\n",
      "Epoch 186 Loss 0.000039\n",
      "Epoch 187 Loss 0.000041\n",
      "Epoch 188 Loss 0.000039\n",
      "Epoch 189 Loss 0.000041\n",
      "Epoch 190 Loss 0.000039\n",
      "Epoch 191 Loss 0.000041\n",
      "Epoch 192 Loss 0.000039\n",
      "Epoch 193 Loss 0.000041\n",
      "Epoch 194 Loss 0.000039\n",
      "Epoch 195 Loss 0.000041\n",
      "Epoch 196 Loss 0.000039\n",
      "Epoch 197 Loss 0.000041\n",
      "Epoch 198 Loss 0.000039\n",
      "Epoch 199 Loss 0.000041\n",
      "Epoch 200 Loss 0.000039\n"
     ]
    }
   ],
   "source": [
    "for epoch in range(epochs):\n",
    "    for sequence_in, y_train in full_data:\n",
    "        y_pred = model(sequence_in)\n",
    "        loss = criterion(y_pred, y_train)\n",
    "        \n",
    "        optimizer.zero_grad()\n",
    "        model.hidden = (torch.zeros(1, 1,model.h_size), torch.zeros(1, 1, model.h_size))\n",
    "        \n",
    "        loss.backward()\n",
    "        optimizer.step()\n",
    "        \n",
    "    print(f'Epoch {epoch+1} Loss {loss.item():.6f}' )"
   ]
  },
  {
   "cell_type": "code",
   "execution_count": 55,
   "metadata": {},
   "outputs": [],
   "source": [
    "future=3\n",
    "\n",
    "preds = y_normalized[-window_size:].tolist()\n",
    "model.eval()\n",
    "for i in range(future):\n",
    "    sequence = torch.FloatTensor(preds[-window_size:])\n",
    "    with torch.no_grad():\n",
    "        model.hidden = (torch.zeros(1, 1,model.h_size), torch.zeros(1, 1, model.h_size))\n",
    "        preds.append(model(sequence).item())"
   ]
  },
  {
   "cell_type": "code",
   "execution_count": 56,
   "metadata": {},
   "outputs": [],
   "source": [
    "preductions = scaler.inverse_transform(np.array(preds[window_size:]).reshape(-1,1))"
   ]
  },
  {
   "cell_type": "code",
   "execution_count": 59,
   "metadata": {},
   "outputs": [
    {
     "data": {
      "text/plain": [
       "array(['2020-09-17', '2020-09-18', '2020-09-19'], dtype='datetime64[D]')"
      ]
     },
     "execution_count": 59,
     "metadata": {},
     "output_type": "execute_result"
    }
   ],
   "source": [
    "x = np.arange('2020-09-17','2020-09-20', dtype='datetime64[D]').astype('datetime64[D]')\n",
    "x"
   ]
  },
  {
   "cell_type": "code",
   "execution_count": 60,
   "metadata": {},
   "outputs": [
    {
     "data": {
      "image/png": "[encoded data removed]",
      "text/plain": [
       "<Figure size 864x360 with 1 Axes>"
      ]
     },
     "metadata": {
      "needs_background": "light"
     },
     "output_type": "display_data"
    }
   ],
   "source": [
    "plt.figure(figsize=(12,5))\n",
    "plt.grid(True)\n",
    "plt.plot(daily_global)\n",
    "plt.plot(x,preductions)\n",
    "plt.show()"
   ]
  },
  {
   "cell_type": "code",
   "execution_count": null,
   "metadata": {},
   "outputs": [],
   "source": []
  }
 ],
 "metadata": {
  "kernelspec": {
   "display_name": "Python 3",
   "language": "python",
   "name": "python3"
  },
  "language_info": {
   "codemirror_mode": {
    "name": "ipython",
    "version": 3
   },
   "file_extension": ".py",
   "mimetype": "text/x-python",
   "name": "python",
   "nbconvert_exporter": "python",
   "pygments_lexer": "ipython3",
   "version": "3.7.1"
  }
 },
 "nbformat": 4,
 "nbformat_minor": 4
}
